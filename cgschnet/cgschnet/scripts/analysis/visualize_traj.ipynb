{
 "cells": [
  {
   "cell_type": "code",
   "execution_count": 1,
   "metadata": {},
   "outputs": [
    {
     "data": {
      "application/vnd.jupyter.widget-view+json": {
       "model_id": "2cc21921109e47ccb7a082d9ab669aae",
       "version_major": 2,
       "version_minor": 0
      },
      "text/plain": []
     },
     "metadata": {},
     "output_type": "display_data"
    },
    {
     "name": "stdout",
     "output_type": "stream",
     "text": [
      "npyFiles ['../sims/000113_all_12368_cyrusc_081724/wwdomain_model_replicas.npy', '../sims/000113_all_12368_cyrusc_081724/proteinb_model_replicas.npy', '../sims/000113_all_12368_cyrusc_081724/trpcage_model_replicas.npy', '../sims/000113_all_12368_cyrusc_081724/chignolin_model_replicas.npy', '../sims/000113_all_12368_cyrusc_081724/bba_model_replicas.npy', '../sims/000113_all_12368_cyrusc_081724/homeodomain_model_replicas.npy']\n"
     ]
    }
   ],
   "source": [
    "import nglview as nv\n",
    "import mdtraj as md\n",
    "import numpy as np\n",
    "import os\n",
    "import glob\n",
    "import argparse\n",
    "import pickle\n",
    "import ipywidgets as widgets\n",
    "import pytraj as pt\n",
    "\n",
    "\n",
    "benchmarkFolder = '../sims/000113_all_12368_cyrusc_081724'\n",
    "#benchmarkFolder = '../sims/000112*'\n",
    "# get list of proteins\n",
    "npyFiles = glob.glob(f'{benchmarkFolder}/*_model_replicas.npy')\n",
    "print('npyFiles',npyFiles)\n",
    "# for file in npyFiles:\n",
    "file = npyFiles[0]\n",
    "with open(file, 'rb') as f:\n",
    "    struct = pickle.load(f)\n",
    "    trajs = struct['mdtraj_list']\n",
    "\n",
    "t = trajs[0]\n",
    "box_lengths = t.unitcell_lengths  # Shape: (n_frames, 3)\n",
    "box_angles = t.unitcell_angles    # Shape: (n_frames, 3)\n",
    "\n"
   ]
  },
  {
   "cell_type": "code",
   "execution_count": 2,
   "metadata": {},
   "outputs": [
    {
     "data": {
      "application/vnd.jupyter.widget-view+json": {
       "model_id": "9664b83546bc40b9990bc9dfd8d2dda7",
       "version_major": 2,
       "version_minor": 0
      },
      "text/plain": [
       "ThemeManager()"
      ]
     },
     "metadata": {},
     "output_type": "display_data"
    },
    {
     "data": {
      "application/vnd.jupyter.widget-view+json": {
       "model_id": "9847c1fd35af493fa4ca61ccf7596824",
       "version_major": 2,
       "version_minor": 0
      },
      "text/plain": [
       "GridspecLayout(children=(NGLWidget(frame=1, gui_style='ngl', layout=Layout(grid_area='widget001'), max_frame=9…"
      ]
     },
     "execution_count": 2,
     "metadata": {},
     "output_type": "execute_result"
    }
   ],
   "source": [
    "# print(t.xyz)\n",
    "# print('box_lengths',box_lengths)\n",
    "# print('box_angles', box_angles)\n",
    "# asd\n",
    "rows = 1\n",
    "cols = 2\n",
    "c = 0\n",
    "grid = widgets.GridspecLayout(rows, cols)  # Create a 1-row, 2-column grid        \n",
    "for r in range(0, rows):\n",
    "    for c in range(0, cols):\n",
    "        # t_processed = pt.autoimage(trajs[c])  # Apply periodic boundary corrections\n",
    "        # t_processed = pt.superpose(t_processed, ref=0)  # Superpose frames on the first frame for consistency\n",
    "\n",
    "        # Create NGLWidget instances\n",
    "        view = nv.show_pytraj(trajs[c])\n",
    "        view.center()  # Center the view\n",
    "        view.add_representation('box', color='blue')  # Add bounding box\n",
    "        # view.add_unitcell()\n",
    "        view.camera = 'orthographic'  # Use orthographic view for consistency\n",
    "        view.frame = 1  # Move to the second frame (frame indices are zero-based)\n",
    "        grid[r, c] = view\n",
    "        view.display(gui=True)\n",
    "        \n",
    "        c += 1\n",
    "\n",
    "grid"
   ]
  },
  {
   "cell_type": "code",
   "execution_count": 44,
   "metadata": {},
   "outputs": [
    {
     "name": "stdout",
     "output_type": "stream",
     "text": [
      "tj.xyz [[-1.3318918  -1.7194725   4.128478  ]\n",
      " [-1.0169213  -1.6046295   4.3000216 ]\n",
      " [-0.79844403 -1.7894714   4.554266  ]\n",
      " ...\n",
      " [ 1.1404959   1.0054432   4.7851386 ]\n",
      " [ 1.0617161   0.99277246  5.1574764 ]\n",
      " [ 1.2581224   1.2917459   4.979723  ]]\n",
      "tj.xyz [[ 6.1822677  -0.5836967   3.967289  ]\n",
      " [ 6.423429   -0.3068933   3.8718047 ]\n",
      " [ 6.6934495  -0.08159108  4.05932   ]\n",
      " ...\n",
      " [ 4.661863    0.11590022  5.380454  ]\n",
      " [ 4.2974753   0.01744992  5.317434  ]\n",
      " [ 4.5225086   0.30028448  5.183049  ]]\n",
      "tj.xyz [[1.7679139 5.1220546 3.196375 ]\n",
      " [1.6537393 4.9833136 2.8449214]\n",
      " [1.9858665 4.787259  2.7921128]\n",
      " ...\n",
      " [1.220552  3.6711159 3.6838355]\n",
      " [1.4763793 3.7897925 3.4202805]\n",
      " [1.4075588 4.054866  3.6976047]]\n",
      "tj.xyz [[ 8.709774   -0.4418696   0.41975102]\n",
      " [ 8.477692   -0.7216612   0.54654795]\n",
      " [ 8.247654   -0.795837    0.23738284]\n",
      " ...\n",
      " [ 7.41857     0.9637488  -0.4117295 ]\n",
      " [ 7.5073876   0.65711915 -0.62909436]\n",
      " [ 7.7602363   0.9079194  -0.7854816 ]]\n",
      "tj.xyz [[ 7.800406   -0.4986356   3.1267412 ]\n",
      " [ 8.110476   -0.5303298   3.3635716 ]\n",
      " [ 8.0268955  -0.6187666   3.731311  ]\n",
      " ...\n",
      " [ 7.711197   -0.03240563  5.292174  ]\n",
      " [ 7.4089155   0.07589532  5.0693846 ]\n",
      " [ 7.1788855   0.29251575  4.858842  ]]\n",
      "merged <mdtraj.Trajectory with 500 frames, 34 atoms, 34 residues, without unitcells>\n"
     ]
    },
    {
     "data": {
      "application/vnd.jupyter.widget-view+json": {
       "model_id": "3f4dad42592d4d59a1db67520d15c3d3",
       "version_major": 2,
       "version_minor": 0
      },
      "text/plain": [
       "NGLWidget(gui_style='ngl', max_frame=499)"
      ]
     },
     "metadata": {},
     "output_type": "display_data"
    }
   ],
   "source": [
    "# merge all mdtraj trajectories into one system, translate each mdtraj by xyz offsets, and display them in nglview\n",
    "import copy\n",
    "\n",
    "ts_shifted = [copy.deepcopy(t) for t in trajs[:5]]\n",
    "# xyzs = np.linspace(0, 100, len(ts_shifted))\n",
    "for t, tj in enumerate(ts_shifted):\n",
    "    tj.xyz += np.array([t, 0, 0])  # Randomly shift each trajectory\n",
    "    print('tj.xyz', tj.xyz[0,:,:])\n",
    "\n",
    "merged = md.join(ts_shifted)\n",
    "print('merged',merged)\n",
    "# Create NGLWidget instance\n",
    "view = nv.show_mdtraj(merged)\n",
    "view.center()  # Center the view\n",
    "view.display(gui=True)\n",
    "view\n"
   ]
  }
 ],
 "metadata": {
  "kernelspec": {
   "display_name": "Python 3",
   "language": "python",
   "name": "python3"
  },
  "language_info": {
   "codemirror_mode": {
    "name": "ipython",
    "version": 3
   },
   "file_extension": ".py",
   "mimetype": "text/x-python",
   "name": "python",
   "nbconvert_exporter": "python",
   "pygments_lexer": "ipython3",
   "version": "3.11.10"
  }
 },
 "nbformat": 4,
 "nbformat_minor": 2
}

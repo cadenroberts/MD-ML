{
 "cells": [
  {
   "cell_type": "code",
   "execution_count": 1,
   "metadata": {},
   "outputs": [
    {
     "name": "stderr",
     "output_type": "stream",
     "text": [
      "2024-12-03 17:46:02,008 - numexpr.utils - INFO - Note: NumExpr detected 32 cores but \"NUMEXPR_MAX_THREADS\" not set, so enforcing safe limit of 16.\n",
      "2024-12-03 17:46:02,009 - numexpr.utils - INFO - NumExpr defaulting to 16 threads.\n"
     ]
    }
   ],
   "source": [
    "import sys\n",
    "sys.path.append(\"..\")\n",
    "\n",
    "import torch\n",
    "\n",
    "from torchmd.forces import Forces\n",
    "from torchmd.systems import System\n",
    "from moleculekit.molecule import Molecule\n",
    "from torchmd.parameters import Parameters\n",
    "\n",
    "import numpy as np\n",
    "import time\n",
    "import json\n",
    "import tqdm\n",
    "\n",
    "from module.torchmd import tagged_forcefield\n",
    "from module.torchforcefield import TorchForceField\n",
    "\n",
    "import os"
   ]
  },
  {
   "cell_type": "code",
   "execution_count": 2,
   "metadata": {},
   "outputs": [],
   "source": [
    "version_major, version_minor = torch.__version__.split(\".\")[:2]\n",
    "assert int(version_major) >= 2 and int(version_minor) >= 4, \"Compilation only works with pytorch 2.4 or greater\""
   ]
  },
  {
   "cell_type": "code",
   "execution_count": 3,
   "metadata": {},
   "outputs": [],
   "source": [
    "def calculate_forces(\n",
    "        coords,\n",
    "        box,\n",
    "        system,\n",
    "        forces_obj):\n",
    "    if box is not None:\n",
    "        # Take the diagonal \n",
    "        linearized = box.reshape(-1,9)[:,[0,4,8]]\n",
    "        # Then reformat to TorchMD's expected shape\n",
    "        box_full = linearized.reshape(linearized.shape[0], 3, 1)\n",
    "    else:\n",
    "        box_full = torch.zeros(coords.shape[0], 3, 1)\n",
    "\n",
    "    prior_forces = []\n",
    "    prior_energy = 0.0\n",
    "    for i in tqdm.tqdm(range(0, coords.shape[0]), dynamic_ncols=True):\n",
    "        co = coords[i]\n",
    "        system.set_box(box_full[i])\n",
    "        Epot = forces_obj.compute(co.reshape([1, -1, 3]), system.box, system.forces)\n",
    "        fr = (\n",
    "            system.forces.detach().cpu().numpy().astype(np.float32).reshape([-1, 3])\n",
    "        )\n",
    "        prior_energy += Epot[0]\n",
    "        prior_forces.append(fr)\n",
    "\n",
    "    prior_forces = torch.as_tensor(prior_forces, dtype=system.forces.dtype)\n",
    "    return prior_energy, prior_forces\n",
    "\n",
    "def make_forces(\n",
    "    coords_npz,\n",
    "    box_npz,\n",
    "    psf,\n",
    "    prior_path,\n",
    "    prior_params_path,\n",
    "    device=\"cpu\",\n",
    "):\n",
    "    device = torch.device(device)\n",
    "    precision = torch.float\n",
    "    replicas = 1\n",
    "\n",
    "\n",
    "    # Load prior_params\n",
    "    with open(prior_params_path, 'r') as f:\n",
    "        prior_params = json.load(f)\n",
    "    forceterms = prior_params[\"forceterms\"]\n",
    "    exclusions = prior_params[\"exclusions\"]\n",
    "\n",
    "    mol = Molecule(psf)\n",
    "    natoms = mol.numAtoms\n",
    "\n",
    "    coords = np.load(coords_npz)\n",
    "    box = None\n",
    "    if box_npz:\n",
    "        box = np.load(box_npz)\n",
    "        box = torch.tensor(box, dtype=precision).to(device)\n",
    "    coords = torch.tensor(coords, dtype=precision).to(device)\n",
    "\n",
    "    atom_vel = torch.zeros(replicas, natoms, 3)\n",
    "    atom_pos = torch.zeros(natoms, 3, replicas)\n",
    "\n",
    "    ff = tagged_forcefield.create(mol, prior_path)\n",
    "    parameters = Parameters(ff, mol, forceterms, precision=precision, device=device)\n",
    "\n",
    "    system = System(natoms, replicas, precision, device)\n",
    "    system.set_positions(atom_pos)\n",
    "    system.set_velocities(atom_vel)\n",
    "\n",
    "    forces = Forces(parameters, terms=forceterms, exclusions=exclusions)\n",
    "\n",
    "    return calculate_forces(coords, box, system, forces)\n",
    "\n",
    "def graph_forward(module, box, data, repeats=20):\n",
    "    static_in = torch.as_tensor(data, device=module.device)\n",
    "    if box is not None and not torch.all(box == 0):\n",
    "        static_box = torch.ones((3,), device=module.device)\n",
    "    else:\n",
    "        static_box = None\n",
    "    static_out = torch.zeros_like(data, device=module.device)\n",
    "    static_pots_out = torch.zeros(1, device=module.device)\n",
    "\n",
    "    s = torch.cuda.Stream()\n",
    "    s.wait_stream(torch.cuda.current_stream())\n",
    "    with torch.cuda.stream(s):\n",
    "        for i in range(repeats):\n",
    "            static_pots_out[:] = module.forward(static_in, static_box, static_out)\n",
    "    torch.cuda.current_stream().wait_stream(s)\n",
    "\n",
    "    g = torch.cuda.CUDAGraph()\n",
    "    with torch.cuda.graph(g):\n",
    "        static_pots_out[:] = module.forward(static_in, static_box, static_out)\n",
    "\n",
    "    def eval_graph(co, box, fo_out):\n",
    "        static_in.copy_(co)\n",
    "        if static_box is not None:\n",
    "            static_box.copy_(box)\n",
    "        g.replay()\n",
    "        fo_out.copy_(static_out)\n",
    "        return static_pots_out\n",
    "\n",
    "    module.forward = eval_graph\n",
    "\n",
    "def make_forces_tff(\n",
    "    coords_npz,\n",
    "    box_npz,\n",
    "    psf,\n",
    "    prior_path,\n",
    "    prior_params_path,\n",
    "    device=\"cpu\",\n",
    "    compile=False,\n",
    "    cuda_graph=True\n",
    "):\n",
    "    device = torch.device(device)\n",
    "    precision = torch.float\n",
    "    replicas = 1\n",
    "\n",
    "    # Load prior_params\n",
    "    with open(prior_params_path, 'r') as f:\n",
    "        prior_params = json.load(f)\n",
    "    forceterms = prior_params[\"forceterms\"]\n",
    "    exclusions = prior_params[\"exclusions\"]\n",
    "\n",
    "    mol = Molecule(psf)\n",
    "    natoms = mol.numAtoms\n",
    "\n",
    "    coords = np.load(coords_npz)\n",
    "    box = None\n",
    "    graph_box = None\n",
    "    if box_npz:\n",
    "        box = np.load(box_npz)\n",
    "        box = torch.tensor(box, dtype=precision).to(device)\n",
    "        graph_box = box[0]\n",
    "    coords = torch.tensor(coords, dtype=precision).to(device)\n",
    "\n",
    "    atom_vel = torch.zeros(replicas, natoms, 3)\n",
    "    atom_pos = torch.zeros(natoms, 3, replicas)\n",
    "\n",
    "    forces = TorchForceField(prior_path, mol, device, terms=forceterms, exclusions=exclusions, use_box=box is not None)\n",
    "    print(forces)\n",
    "\n",
    "    if compile:\n",
    "        t0 = time.time()\n",
    "        print(\"Compiling prior...\", end=\"\", flush=True)\n",
    "        forces.forward = torch.compile(forces.forward)\n",
    "        print(f\" Done ({time.time() - t0:.2f}s)\")\n",
    "    if cuda_graph:\n",
    "        t0 = time.time()\n",
    "        print(\"Building CUDA graph...\", end=\"\", flush=True)\n",
    "        graph_forward(forces, graph_box, coords[0], repeats=20)\n",
    "        print(f\" Done ({time.time() - t0:.2f}s)\")\n",
    "        \n",
    "        \n",
    "\n",
    "    system = System(natoms, replicas, precision, device)\n",
    "    system.set_positions(atom_pos)\n",
    "    system.set_velocities(atom_vel)\n",
    "\n",
    "    return calculate_forces(coords, box, system, forces)"
   ]
  },
  {
   "cell_type": "code",
   "execution_count": 4,
   "metadata": {},
   "outputs": [],
   "source": [
    "class TestData():\n",
    "    def __init__(self, path, box=True):\n",
    "        pdbid = path.split(\"/\")[-1]\n",
    "        if not pdbid: # If it ended with a /\n",
    "            pdbid = path.split(\"/\")[-2]\n",
    "        self.ref_coords = os.path.join(path, \"raw/coordinates.npy\")\n",
    "        self.prior_params_path = os.path.join(path, f\"raw/{pdbid}_prior_params.json\")\n",
    "        self.prior_path = os.path.join(path, f\"raw/{pdbid}_priors.yaml\")\n",
    "        self.psf = os.path.join(path, f\"processed/{pdbid}_processed.psf\")\n",
    "        self.ref_box = os.path.join(path, \"raw/box.npy\")\n",
    "        if not box or not os.path.exists(self.ref_box):\n",
    "            self.ref_box = None\n",
    "\n",
    "def calc_rmsd(a, b):\n",
    "    if a is None or b is None:\n",
    "        return None\n",
    "    criterion = torch.nn.MSELoss()\n",
    "    return torch.sqrt(criterion(a, b))"
   ]
  },
  {
   "cell_type": "code",
   "execution_count": null,
   "metadata": {},
   "outputs": [
    {
     "name": "stderr",
     "output_type": "stream",
     "text": [
      "/mnt/stuff/argon/conda/mla_miniforge/envs/mla_torchmdnet24_test/lib/python3.11/site-packages/torchmd/systems.py:49: UserWarning: To copy construct from a tensor, it is recommended to use sourceTensor.clone().detach() or sourceTensor.clone().detach().requires_grad_(True), rather than torch.tensor(sourceTensor).\n",
      "  self.pos[:] = torch.tensor(\n",
      "  0%|          | 0/10000 [00:00<?, ?it/s]/mnt/stuff/argon/conda/mla_miniforge/envs/mla_torchmdnet24_test/lib/python3.11/site-packages/torchmd/systems.py:73: UserWarning: To copy construct from a tensor, it is recommended to use sourceTensor.clone().detach() or sourceTensor.clone().detach().requires_grad_(True), rather than torch.tensor(sourceTensor).\n",
      "  self.box[r][torch.eye(3).bool()] = torch.tensor(\n",
      "100%|██████████| 10000/10000 [00:13<00:00, 737.49it/s]\n",
      "/tmp/ipykernel_483647/4256766074.py:26: UserWarning: Creating a tensor from a list of numpy.ndarrays is extremely slow. Please consider converting the list to a single numpy.ndarray with numpy.array() before converting to a tensor. (Triggered internally at /home/conda/feedstock_root/build_artifacts/libtorch_1728241823685/work/torch/csrc/utils/tensor_new.cpp:278.)\n",
      "  prior_forces = torch.as_tensor(prior_forces, dtype=system.forces.dtype)\n"
     ]
    },
    {
     "name": "stdout",
     "output_type": "stream",
     "text": [
      "TorchForceField(\n",
      "  (term_modules): ModuleList(\n",
      "    (0): TFF_Bond()\n",
      "    (1): TFF_Angle()\n",
      "    (2): TFF_Dihedral()\n",
      "    (3): TFF_RepulsionCG(cutoff=None, exclusions=['bonds', 'angles', 'dihedrals'])\n",
      "  )\n",
      ")\n"
     ]
    },
    {
     "name": "stderr",
     "output_type": "stream",
     "text": [
      "100%|██████████| 10000/10000 [00:07<00:00, 1350.44it/s]\n"
     ]
    },
    {
     "name": "stdout",
     "output_type": "stream",
     "text": [
      "TorchForceField(\n",
      "  (term_modules): ModuleList(\n",
      "    (0): TFF_Bond()\n",
      "    (1): TFF_Angle()\n",
      "    (2): TFF_Dihedral()\n",
      "    (3): TFF_RepulsionCG(cutoff=None, exclusions=['bonds', 'angles', 'dihedrals'])\n",
      "  )\n",
      ")\n",
      "Building CUDA graph... Done (0.06s)\n"
     ]
    },
    {
     "name": "stderr",
     "output_type": "stream",
     "text": [
      "100%|██████████| 10000/10000 [00:02<00:00, 3387.57it/s]\n"
     ]
    },
    {
     "name": "stdout",
     "output_type": "stream",
     "text": [
      "TorchForceField(\n",
      "  (term_modules): ModuleList(\n",
      "    (0): TFF_Bond()\n",
      "    (1): TFF_Angle()\n",
      "    (2): TFF_Dihedral()\n",
      "    (3): TFF_RepulsionCG(cutoff=None, exclusions=['bonds', 'angles', 'dihedrals'])\n",
      "  )\n",
      ")\n",
      "Compiling prior... Done (0.59s)\n",
      "Building CUDA graph..."
     ]
    },
    {
     "name": "stderr",
     "output_type": "stream",
     "text": [
      "/mnt/stuff/argon/conda/mla_miniforge/envs/mla_torchmdnet24_test/lib/python3.11/site-packages/torchmd/systems.py:49: UserWarning: To copy construct from a tensor, it is recommended to use sourceTensor.clone().detach() or sourceTensor.clone().detach().requires_grad_(True), rather than torch.tensor(sourceTensor).\n",
      "  self.pos[:] = torch.tensor(\n"
     ]
    },
    {
     "name": "stdout",
     "output_type": "stream",
     "text": [
      " Done (2.16s)\n"
     ]
    },
    {
     "name": "stderr",
     "output_type": "stream",
     "text": [
      "  0%|          | 0/10000 [00:00<?, ?it/s]/mnt/stuff/argon/conda/mla_miniforge/envs/mla_torchmdnet24_test/lib/python3.11/site-packages/torchmd/systems.py:73: UserWarning: To copy construct from a tensor, it is recommended to use sourceTensor.clone().detach() or sourceTensor.clone().detach().requires_grad_(True), rather than torch.tensor(sourceTensor).\n",
      "  self.box[r][torch.eye(3).bool()] = torch.tensor(\n",
      "100%|██████████| 10000/10000 [00:01<00:00, 6771.68it/s]\n"
     ]
    },
    {
     "name": "stdout",
     "output_type": "stream",
     "text": [
      "---\n",
      "Force RMS magnitude tensor(8.0916)\n",
      "RMSD: TorchMD vs TorchMD tensor(0.)\n",
      "RMSD: TorchMD vs TorchForceField tensor(6.6535e-07)\n",
      "RMSD: TorchMD vs TorchForceField graph tensor(6.8872e-07)\n",
      "RMSD: TorchMD vs TorchForceField compiled graph tensor(7.3400e-07)\n",
      "Energy: 852764.7920870781 tensor([852762.6250], device='cuda:0') tensor([852762.6250], device='cuda:0') tensor([852762.6250], device='cuda:0')\n"
     ]
    }
   ],
   "source": [
    "# data = TestData(\"/home/argon/Stuff/seq_embedding/cg_single_chain_2024.06.26_subsetC_CA_lj_angleXCX_dihedralX/6MRR/\")\n",
    "data = TestData(\"/media/DATA_18_TB_1/daniel_s/cgschnet/seq_embedding/cg_single_chain_2024.06.26_subsetC_CA_lj_angleXCX_dihedralX/6MRR/\")\n",
    "\n",
    "tmd_forces_result = ttf_forces_result = ttf_graph_forces_result = ttf_comp_graph_forces_result = None\n",
    "tmd_energy_result = ttf_energy_result = ttf_graph_energy_result = ttf_comp_graph_energy_result = float(\"nan\")\n",
    "\n",
    "tmd_energy_result, tmd_forces_result = make_forces(data.ref_coords, None, data.psf, data.prior_path, data.prior_params_path, \"cuda\")\n",
    "ttf_energy_result, ttf_forces_result = make_forces_tff(data.ref_coords, None, data.psf, data.prior_path, data.prior_params_path, \"cuda\", compile=False, cuda_graph=False)\n",
    "ttf_graph_energy_result, ttf_graph_forces_result = make_forces_tff(data.ref_coords, None, data.psf, data.prior_path, data.prior_params_path, \"cuda\", compile=False, cuda_graph=True)\n",
    "ttf_comp_graph_energy_result, ttf_comp_graph_forces_result = make_forces_tff(data.ref_coords, None, data.psf, data.prior_path, data.prior_params_path, \"cuda\", compile=True, cuda_graph=True)\n",
    "\n",
    "print(\"---\")\n",
    "print(\"Force RMS magnitude\", torch.sqrt(torch.mean(tmd_forces_result**2)))\n",
    "print(\"RMSD: TorchMD vs TorchMD\", calc_rmsd(tmd_forces_result, tmd_forces_result))\n",
    "print(\"RMSD: TorchMD vs TorchForceField\", calc_rmsd(tmd_forces_result, ttf_forces_result))\n",
    "print(\"RMSD: TorchMD vs TorchForceField graph\", calc_rmsd(tmd_forces_result, ttf_graph_forces_result))\n",
    "print(\"RMSD: TorchMD vs TorchForceField compiled graph\", calc_rmsd(tmd_forces_result, ttf_comp_graph_forces_result))\n",
    "print(\"Energy:\", tmd_energy_result, ttf_energy_result, ttf_graph_energy_result, ttf_comp_graph_energy_result)"
   ]
  },
  {
   "cell_type": "code",
   "execution_count": null,
   "metadata": {},
   "outputs": [
    {
     "name": "stderr",
     "output_type": "stream",
     "text": [
      "100%|██████████| 20000/20000 [00:28<00:00, 710.68it/s]\n"
     ]
    },
    {
     "name": "stdout",
     "output_type": "stream",
     "text": [
      "TorchForceField(\n",
      "  (term_modules): ModuleList(\n",
      "    (0): TFF_Bond()\n",
      "    (1): TFF_Angle()\n",
      "    (2): TFF_Dihedral()\n",
      "    (3): TFF_RepulsionCG(cutoff=None, exclusions=['bonds', 'angles', 'dihedrals'])\n",
      "  )\n",
      ")\n"
     ]
    },
    {
     "name": "stderr",
     "output_type": "stream",
     "text": [
      "100%|██████████| 20000/20000 [00:15<00:00, 1279.95it/s]\n"
     ]
    },
    {
     "name": "stdout",
     "output_type": "stream",
     "text": [
      "TorchForceField(\n",
      "  (term_modules): ModuleList(\n",
      "    (0): TFF_Bond()\n",
      "    (1): TFF_Angle()\n",
      "    (2): TFF_Dihedral()\n",
      "    (3): TFF_RepulsionCG(cutoff=None, exclusions=['bonds', 'angles', 'dihedrals'])\n",
      "  )\n",
      ")\n",
      "Building CUDA graph... Done (0.09s)\n"
     ]
    },
    {
     "name": "stderr",
     "output_type": "stream",
     "text": [
      "100%|██████████| 20000/20000 [00:06<00:00, 3104.78it/s]\n"
     ]
    },
    {
     "name": "stdout",
     "output_type": "stream",
     "text": [
      "TorchForceField(\n",
      "  (term_modules): ModuleList(\n",
      "    (0): TFF_Bond()\n",
      "    (1): TFF_Angle()\n",
      "    (2): TFF_Dihedral()\n",
      "    (3): TFF_RepulsionCG(cutoff=None, exclusions=['bonds', 'angles', 'dihedrals'])\n",
      "  )\n",
      ")\n",
      "Compiling prior... Done (0.00s)\n",
      "Building CUDA graph..."
     ]
    },
    {
     "name": "stderr",
     "output_type": "stream",
     "text": [
      "/mnt/stuff/argon/conda/mla_miniforge/envs/mla_torchmdnet24_test/lib/python3.11/site-packages/torchmd/systems.py:49: UserWarning: To copy construct from a tensor, it is recommended to use sourceTensor.clone().detach() or sourceTensor.clone().detach().requires_grad_(True), rather than torch.tensor(sourceTensor).\n",
      "  self.pos[:] = torch.tensor(\n"
     ]
    },
    {
     "name": "stdout",
     "output_type": "stream",
     "text": [
      " Done (1.51s)\n"
     ]
    },
    {
     "name": "stderr",
     "output_type": "stream",
     "text": [
      "  0%|          | 0/20000 [00:00<?, ?it/s]/mnt/stuff/argon/conda/mla_miniforge/envs/mla_torchmdnet24_test/lib/python3.11/site-packages/torchmd/systems.py:73: UserWarning: To copy construct from a tensor, it is recommended to use sourceTensor.clone().detach() or sourceTensor.clone().detach().requires_grad_(True), rather than torch.tensor(sourceTensor).\n",
      "  self.box[r][torch.eye(3).bool()] = torch.tensor(\n",
      "100%|██████████| 20000/20000 [00:03<00:00, 5812.19it/s]\n"
     ]
    },
    {
     "name": "stdout",
     "output_type": "stream",
     "text": [
      "---\n",
      "Force RMS magnitude tensor(8.6310)\n",
      "RMSD: TorchMD vs TorchMD tensor(0.)\n",
      "RMSD: TorchMD vs TorchForceField tensor(1.0310e-06)\n",
      "RMSD: TorchMD vs TorchForceField graph tensor(1.0649e-06)\n",
      "RMSD: TorchMD vs TorchForceField compiled graph tensor(1.0960e-06)\n",
      "Energy: 2566794.674589157 tensor([2566793.7500], device='cuda:0') tensor([2566793.7500], device='cuda:0') tensor([2566793.7500], device='cuda:0')\n"
     ]
    }
   ],
   "source": [
    "# Test a protein that uses box wrapping (something multichained)\n",
    "# data = TestData(\"/home/argon/Stuff/cg_2GJH_dimer_2024.05.31_400fs_CA_lj_angleXCX_dihedralX/2GJH/\", box=True)\n",
    "data = TestData(\"/media/DATA_18_TB_1/daniel_s/cgschnet/cg_2GJH_dimer_2024.05.31_400fs_CA_lj_angleXCX_dihedralX/2GJH/\")\n",
    "\n",
    "tmd_forces_result = ttf_forces_result = ttf_graph_forces_result = ttf_comp_graph_forces_result = None\n",
    "tmd_energy_result = ttf_energy_result = ttf_graph_energy_result = ttf_comp_graph_energy_result = float(\"nan\")\n",
    "\n",
    "tmd_energy_result, tmd_forces_result = make_forces(data.ref_coords, data.ref_box, data.psf, data.prior_path, data.prior_params_path, \"cuda\")\n",
    "ttf_energy_result, ttf_forces_result = make_forces_tff(data.ref_coords, data.ref_box, data.psf, data.prior_path, data.prior_params_path, \"cuda\", compile=False, cuda_graph=False)\n",
    "ttf_graph_energy_result, ttf_graph_forces_result = make_forces_tff(data.ref_coords, data.ref_box, data.psf, data.prior_path, data.prior_params_path, \"cuda\", compile=False, cuda_graph=True)\n",
    "ttf_comp_graph_energy_result, ttf_comp_graph_forces_result = make_forces_tff(data.ref_coords, data.ref_box, data.psf, data.prior_path, data.prior_params_path, \"cuda\", compile=True, cuda_graph=True)\n",
    "\n",
    "print(\"---\")\n",
    "print(\"Force RMS magnitude\", torch.sqrt(torch.mean(tmd_forces_result**2)))\n",
    "print(\"RMSD: TorchMD vs TorchMD\", calc_rmsd(tmd_forces_result, tmd_forces_result))\n",
    "print(\"RMSD: TorchMD vs TorchForceField\", calc_rmsd(tmd_forces_result, ttf_forces_result))\n",
    "print(\"RMSD: TorchMD vs TorchForceField graph\", calc_rmsd(tmd_forces_result, ttf_graph_forces_result))\n",
    "print(\"RMSD: TorchMD vs TorchForceField compiled graph\", calc_rmsd(tmd_forces_result, ttf_comp_graph_forces_result))\n",
    "print(\"Energy:\", tmd_energy_result, ttf_energy_result, ttf_graph_energy_result, ttf_comp_graph_energy_result)"
   ]
  },
  {
   "cell_type": "code",
   "execution_count": null,
   "metadata": {},
   "outputs": [],
   "source": []
  }
 ],
 "metadata": {
  "kernelspec": {
   "display_name": "Python 3",
   "language": "python",
   "name": "python3"
  },
  "language_info": {
   "codemirror_mode": {
    "name": "ipython",
    "version": 3
   },
   "file_extension": ".py",
   "mimetype": "text/x-python",
   "name": "python",
   "nbconvert_exporter": "python",
   "pygments_lexer": "ipython3",
   "version": "3.11.10"
  }
 },
 "nbformat": 4,
 "nbformat_minor": 2
}

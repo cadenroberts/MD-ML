{
 "cells": [
  {
   "cell_type": "code",
   "execution_count": 15,
   "metadata": {},
   "outputs": [],
   "source": [
    "import h5py\n",
    "import matplotlib\n",
    "import matplotlib.pyplot as plt\n",
    "import numpy as np\n"
   ]
  },
  {
   "cell_type": "code",
   "execution_count": 16,
   "metadata": {},
   "outputs": [],
   "source": [
    "import os\n",
    "home_path=\"/media/DATA_18_TB_1/awaghili/WESTPA_CG/harmonic_mix_trpcage_2d/westpa_prop\"\n",
    "os.chdir(home_path)\n"
   ]
  },
  {
   "cell_type": "code",
   "execution_count": 17,
   "metadata": {},
   "outputs": [
    {
     "ename": "BlockingIOError",
     "evalue": "[Errno 11] Unable to synchronously open file (unable to lock file, errno = 11, error message = 'Resource temporarily unavailable')",
     "output_type": "error",
     "traceback": [
      "\u001b[0;31m---------------------------------------------------------------------------\u001b[0m",
      "\u001b[0;31mBlockingIOError\u001b[0m                           Traceback (most recent call last)",
      "Cell \u001b[0;32mIn[17], line 8\u001b[0m\n\u001b[1;32m      5\u001b[0m max_iname \u001b[38;5;241m=\u001b[39m \u001b[38;5;241m10\u001b[39m\n\u001b[1;32m      7\u001b[0m file_path \u001b[38;5;241m=\u001b[39m \u001b[38;5;124m\"\u001b[39m\u001b[38;5;124mwest.h5\u001b[39m\u001b[38;5;124m\"\u001b[39m\n\u001b[0;32m----> 8\u001b[0m \u001b[38;5;28;01mwith\u001b[39;00m \u001b[43mh5py\u001b[49m\u001b[38;5;241;43m.\u001b[39;49m\u001b[43mFile\u001b[49m\u001b[43m(\u001b[49m\u001b[43mfile_path\u001b[49m\u001b[43m,\u001b[49m\u001b[43m \u001b[49m\u001b[38;5;124;43m'\u001b[39;49m\u001b[38;5;124;43mr\u001b[39;49m\u001b[38;5;124;43m'\u001b[39;49m\u001b[43m)\u001b[49m \u001b[38;5;28;01mas\u001b[39;00m h5_file:\n\u001b[1;32m      9\u001b[0m     \u001b[38;5;28;01mfor\u001b[39;00m iname, ival \u001b[38;5;129;01min\u001b[39;00m h5_file[\u001b[38;5;124m\"\u001b[39m\u001b[38;5;124miterations\u001b[39m\u001b[38;5;124m\"\u001b[39m]\u001b[38;5;241m.\u001b[39mitems():\n\u001b[1;32m     10\u001b[0m         iteration_index \u001b[38;5;241m=\u001b[39m \u001b[38;5;28mint\u001b[39m(iname\u001b[38;5;241m.\u001b[39msplit(\u001b[38;5;124m\"\u001b[39m\u001b[38;5;124m_\u001b[39m\u001b[38;5;124m\"\u001b[39m)[\u001b[38;5;241m-\u001b[39m\u001b[38;5;241m1\u001b[39m])\n",
      "File \u001b[0;32m~/miniconda3/envs/andy-reports-3/lib/python3.11/site-packages/h5py/_hl/files.py:562\u001b[0m, in \u001b[0;36mFile.__init__\u001b[0;34m(self, name, mode, driver, libver, userblock_size, swmr, rdcc_nslots, rdcc_nbytes, rdcc_w0, track_order, fs_strategy, fs_persist, fs_threshold, fs_page_size, page_buf_size, min_meta_keep, min_raw_keep, locking, alignment_threshold, alignment_interval, meta_block_size, **kwds)\u001b[0m\n\u001b[1;32m    553\u001b[0m     fapl \u001b[38;5;241m=\u001b[39m make_fapl(driver, libver, rdcc_nslots, rdcc_nbytes, rdcc_w0,\n\u001b[1;32m    554\u001b[0m                      locking, page_buf_size, min_meta_keep, min_raw_keep,\n\u001b[1;32m    555\u001b[0m                      alignment_threshold\u001b[38;5;241m=\u001b[39malignment_threshold,\n\u001b[1;32m    556\u001b[0m                      alignment_interval\u001b[38;5;241m=\u001b[39malignment_interval,\n\u001b[1;32m    557\u001b[0m                      meta_block_size\u001b[38;5;241m=\u001b[39mmeta_block_size,\n\u001b[1;32m    558\u001b[0m                      \u001b[38;5;241m*\u001b[39m\u001b[38;5;241m*\u001b[39mkwds)\n\u001b[1;32m    559\u001b[0m     fcpl \u001b[38;5;241m=\u001b[39m make_fcpl(track_order\u001b[38;5;241m=\u001b[39mtrack_order, fs_strategy\u001b[38;5;241m=\u001b[39mfs_strategy,\n\u001b[1;32m    560\u001b[0m                      fs_persist\u001b[38;5;241m=\u001b[39mfs_persist, fs_threshold\u001b[38;5;241m=\u001b[39mfs_threshold,\n\u001b[1;32m    561\u001b[0m                      fs_page_size\u001b[38;5;241m=\u001b[39mfs_page_size)\n\u001b[0;32m--> 562\u001b[0m     fid \u001b[38;5;241m=\u001b[39m \u001b[43mmake_fid\u001b[49m\u001b[43m(\u001b[49m\u001b[43mname\u001b[49m\u001b[43m,\u001b[49m\u001b[43m \u001b[49m\u001b[43mmode\u001b[49m\u001b[43m,\u001b[49m\u001b[43m \u001b[49m\u001b[43muserblock_size\u001b[49m\u001b[43m,\u001b[49m\u001b[43m \u001b[49m\u001b[43mfapl\u001b[49m\u001b[43m,\u001b[49m\u001b[43m \u001b[49m\u001b[43mfcpl\u001b[49m\u001b[43m,\u001b[49m\u001b[43m \u001b[49m\u001b[43mswmr\u001b[49m\u001b[38;5;241;43m=\u001b[39;49m\u001b[43mswmr\u001b[49m\u001b[43m)\u001b[49m\n\u001b[1;32m    564\u001b[0m \u001b[38;5;28;01mif\u001b[39;00m \u001b[38;5;28misinstance\u001b[39m(libver, \u001b[38;5;28mtuple\u001b[39m):\n\u001b[1;32m    565\u001b[0m     \u001b[38;5;28mself\u001b[39m\u001b[38;5;241m.\u001b[39m_libver \u001b[38;5;241m=\u001b[39m libver\n",
      "File \u001b[0;32m~/miniconda3/envs/andy-reports-3/lib/python3.11/site-packages/h5py/_hl/files.py:235\u001b[0m, in \u001b[0;36mmake_fid\u001b[0;34m(name, mode, userblock_size, fapl, fcpl, swmr)\u001b[0m\n\u001b[1;32m    233\u001b[0m     \u001b[38;5;28;01mif\u001b[39;00m swmr \u001b[38;5;129;01mand\u001b[39;00m swmr_support:\n\u001b[1;32m    234\u001b[0m         flags \u001b[38;5;241m|\u001b[39m\u001b[38;5;241m=\u001b[39m h5f\u001b[38;5;241m.\u001b[39mACC_SWMR_READ\n\u001b[0;32m--> 235\u001b[0m     fid \u001b[38;5;241m=\u001b[39m \u001b[43mh5f\u001b[49m\u001b[38;5;241;43m.\u001b[39;49m\u001b[43mopen\u001b[49m\u001b[43m(\u001b[49m\u001b[43mname\u001b[49m\u001b[43m,\u001b[49m\u001b[43m \u001b[49m\u001b[43mflags\u001b[49m\u001b[43m,\u001b[49m\u001b[43m \u001b[49m\u001b[43mfapl\u001b[49m\u001b[38;5;241;43m=\u001b[39;49m\u001b[43mfapl\u001b[49m\u001b[43m)\u001b[49m\n\u001b[1;32m    236\u001b[0m \u001b[38;5;28;01melif\u001b[39;00m mode \u001b[38;5;241m==\u001b[39m \u001b[38;5;124m'\u001b[39m\u001b[38;5;124mr+\u001b[39m\u001b[38;5;124m'\u001b[39m:\n\u001b[1;32m    237\u001b[0m     fid \u001b[38;5;241m=\u001b[39m h5f\u001b[38;5;241m.\u001b[39mopen(name, h5f\u001b[38;5;241m.\u001b[39mACC_RDWR, fapl\u001b[38;5;241m=\u001b[39mfapl)\n",
      "File \u001b[0;32mh5py/_objects.pyx:54\u001b[0m, in \u001b[0;36mh5py._objects.with_phil.wrapper\u001b[0;34m()\u001b[0m\n",
      "File \u001b[0;32mh5py/_objects.pyx:55\u001b[0m, in \u001b[0;36mh5py._objects.with_phil.wrapper\u001b[0;34m()\u001b[0m\n",
      "File \u001b[0;32mh5py/h5f.pyx:102\u001b[0m, in \u001b[0;36mh5py.h5f.open\u001b[0;34m()\u001b[0m\n",
      "\u001b[0;31mBlockingIOError\u001b[0m: [Errno 11] Unable to synchronously open file (unable to lock file, errno = 11, error message = 'Resource temporarily unavailable')"
     ]
    }
   ],
   "source": [
    "all_pcoords = []\n",
    "\n",
    "# skip_iters_until = 30\n",
    "skip_iters_until = 0\n",
    "max_iname = 10\n",
    "\n",
    "file_path = \"west.h5\"\n",
    "with h5py.File(file_path, 'r') as h5_file:\n",
    "    for iname, ival in h5_file[\"iterations\"].items():\n",
    "        iteration_index = int(iname.split(\"_\")[-1])\n",
    "        if iteration_index < skip_iters_until:\n",
    "            print(iname)\n",
    "            continue\n",
    "        if iteration_index > max_iname:\n",
    "            print(iname)\n",
    "            continue\n",
    "        iteration_pcoords = ival[\"pcoord\"][:]\n",
    "        # We only want to include completed segments\n",
    "        finished_mask = ival[\"seg_index\"][\"status\"] == 2\n",
    "        all_pcoords.extend(iteration_pcoords[finished_mask])\n",
    "\n",
    "all_pcoords = [i.flatten() for i in all_pcoords]"
   ]
  },
  {
   "cell_type": "code",
   "execution_count": null,
   "metadata": {},
   "outputs": [],
   "source": [
    "import h5py\n",
    "import numpy as np\n",
    "import matplotlib.pyplot as plt\n",
    "\n",
    "file_path = \"west.h5\"\n",
    "num_bins = 80\n",
    "\n",
    "with h5py.File(file_path, 'r') as h5_file:\n",
    "    for max_iname in range(1, 62):  # Loop over max_iname from 1 to 61\n",
    "        all_pcoords = []\n",
    "        \n",
    "        for iname, ival in h5_file[\"iterations\"].items():\n",
    "            iteration_index = int(iname.split(\"_\")[-1])\n",
    "            if iteration_index < 0 or iteration_index > max_iname:\n",
    "                continue\n",
    "            iteration_pcoords = ival[\"pcoord\"][:]\n",
    "            finished_mask = ival[\"seg_index\"][\"status\"][:] == 2\n",
    "            all_pcoords.extend(iteration_pcoords[finished_mask])\n",
    "\n",
    "        all_pcoords = [i.flatten() for i in all_pcoords]\n",
    "        component_values = [i for i in all_pcoords]\n",
    "        \n",
    "        component_bins = np.linspace(component_min, component_max, num_bins + 1)\n",
    "\n",
    "        # Bin the data\n",
    "        binned_components = [\n",
    "            np.clip((num_bins * (i - component_min) / (component_max - component_min)).astype(int), None, num_bins - 1)\n",
    "            for i in component_values\n",
    "        ]\n",
    "\n",
    "        # Build the transition matrix\n",
    "        transition_matrix = np.zeros((num_bins, num_bins), dtype=int)\n",
    "        for i in binned_components:\n",
    "            for j in range(len(i) - 1):\n",
    "                transition_matrix[i[j], i[j + 1]] += 1\n",
    "\n",
    "        # Normalize to get transition probabilities\n",
    "        transition_prob_matrix = transition_matrix / transition_matrix.sum(axis=1, keepdims=True)\n",
    "        transition_prob_matrix = np.nan_to_num(transition_prob_matrix)\n",
    "\n",
    "        # Solve for the stationary distribution\n",
    "        eigenvalues, eigenvectors = np.linalg.eig(transition_prob_matrix.T)\n",
    "        stationary_vector = eigenvectors[:, np.isclose(eigenvalues, 1)]\n",
    "\n",
    "        if stationary_vector.shape[1] != 1:\n",
    "            print(f\"Warning: Stationary distribution not unique at max_iname={max_iname}\")\n",
    "            continue\n",
    "\n",
    "        stationary_distribution = stationary_vector[:, 0].real\n",
    "        stationary_distribution /= stationary_distribution.sum()\n",
    "\n",
    "        # Plot transition matrix and stationary distribution\n",
    "        fig, axes = plt.subplots(1, 2, figsize=(12, 4))\n",
    "        im0 = axes[0].imshow(transition_prob_matrix.T, origin='lower', aspect='auto', cmap='viridis')\n",
    "        plt.colorbar(im0, ax=axes[0])\n",
    "        axes[0].set_xlabel(\"State i (src)\")\n",
    "        axes[0].set_ylabel(\"State j (dst)\")\n",
    "\n",
    "        im1 = axes[1].imshow(transition_prob_matrix.T, origin='lower', aspect='auto', cmap='viridis', norm=\"log\")\n",
    "        plt.colorbar(im1, ax=axes[1])\n",
    "        axes[1].set_xlabel(\"State i (src)\")\n",
    "        axes[1].set_ylabel(\"State j (dst)\")\n",
    "        fig.suptitle(f\"State Transition Matrix at max_iname={max_iname}\")\n",
    "        plt.tight_layout()\n",
    "        plt.show()\n",
    "\n",
    "        # Plot MSM histogram comparison\n",
    "        plt.figure()\n",
    "        plt.title(f\"Component Distribution at max_iname={max_iname}\")\n",
    "        all_binned = np.concatenate(binned_components)\n",
    "        plt.hist(all_binned, bins=num_bins, density=True, alpha=0.5, label=\"WESTPA observations\")\n",
    "        plt.plot(stationary_distribution, label=\"MSM equilibrium density\")\n",
    "        plt.legend()\n",
    "        plt.tight_layout()\n",
    "        plt.show()\n"
   ]
  },
  {
   "cell_type": "code",
   "execution_count": null,
   "metadata": {},
   "outputs": [],
   "source": [
    "# component_values = [[i[0], i[-1]] for i in all_pcoords]\n",
    "component_values = [i for i in all_pcoords]\n",
    "\n",
    "num_bins = 80\n",
    "component_min = min([min(i) for i in component_values])\n",
    "component_max = max([max(i) for i in component_values])\n",
    "component_bins = np.linspace(component_min, component_max, num_bins+1)\n",
    "# Calculate the binds ourselves because I can't figure out np.digitize tonight - Daniel\n",
    "# The np.clip call is needed because math here treats the bins as open ranges on the right [a,b), so the max value gets put in next bin\n",
    "binned_componenents = [np.clip((num_bins*(i-component_min)/(component_max-component_min)).astype(int), None, num_bins-1) for i in component_values]\n",
    "\n",
    "for i,j in zip(binned_componenents, component_values):\n",
    "     bad = i[i >= num_bins]\n",
    "     if len(bad):\n",
    "          print(bad)\n",
    "          print(j > component_max)\n",
    "\n",
    "transition_matrix = np.zeros((num_bins, num_bins), dtype=int)\n",
    "for i in binned_componenents:\n",
    "    for j in range(len(i) - 1):\n",
    "        try:\n",
    "            #transition_matrix[from_state][to_state]\n",
    "            transition_matrix[i[j]][i[j+1]] += 1\n",
    "        except:\n",
    "            print(j, j+1)\n",
    "            raise"
   ]
  },
  {
   "cell_type": "code",
   "execution_count": 4,
   "metadata": {},
   "outputs": [
    {
     "ename": "NameError",
     "evalue": "name 'transition_matrix' is not defined",
     "output_type": "error",
     "traceback": [
      "\u001b[0;31m---------------------------------------------------------------------------\u001b[0m",
      "\u001b[0;31mNameError\u001b[0m                                 Traceback (most recent call last)",
      "Cell \u001b[0;32mIn[4], line 1\u001b[0m\n\u001b[0;32m----> 1\u001b[0m \u001b[43mtransition_matrix\u001b[49m\n",
      "\u001b[0;31mNameError\u001b[0m: name 'transition_matrix' is not defined"
     ]
    }
   ],
   "source": [
    "transition_matrix"
   ]
  },
  {
   "cell_type": "code",
   "execution_count": 5,
   "metadata": {},
   "outputs": [
    {
     "ename": "NameError",
     "evalue": "name 'transition_matrix' is not defined",
     "output_type": "error",
     "traceback": [
      "\u001b[0;31m---------------------------------------------------------------------------\u001b[0m",
      "\u001b[0;31mNameError\u001b[0m                                 Traceback (most recent call last)",
      "Cell \u001b[0;32mIn[5], line 1\u001b[0m\n\u001b[0;32m----> 1\u001b[0m transition_prob_matrix \u001b[38;5;241m=\u001b[39m \u001b[43mtransition_matrix\u001b[49m\u001b[38;5;241m.\u001b[39mastype(np\u001b[38;5;241m.\u001b[39mdouble)\u001b[38;5;241m/\u001b[39mnp\u001b[38;5;241m.\u001b[39msum(transition_matrix, axis\u001b[38;5;241m=\u001b[39m\u001b[38;5;241m1\u001b[39m, keepdims\u001b[38;5;241m=\u001b[39m\u001b[38;5;28;01mTrue\u001b[39;00m)\n\u001b[1;32m      2\u001b[0m transition_prob_matrix \u001b[38;5;241m=\u001b[39m np\u001b[38;5;241m.\u001b[39mnan_to_num(transition_prob_matrix, nan\u001b[38;5;241m=\u001b[39m\u001b[38;5;241m0.0\u001b[39m)\n",
      "\u001b[0;31mNameError\u001b[0m: name 'transition_matrix' is not defined"
     ]
    }
   ],
   "source": [
    "transition_prob_matrix = transition_matrix.astype(np.double)/np.sum(transition_matrix, axis=1, keepdims=True)\n",
    "transition_prob_matrix = np.nan_to_num(transition_prob_matrix, nan=0.0)"
   ]
  },
  {
   "cell_type": "code",
   "execution_count": 6,
   "metadata": {},
   "outputs": [
    {
     "ename": "NameError",
     "evalue": "name 'transition_prob_matrix' is not defined",
     "output_type": "error",
     "traceback": [
      "\u001b[0;31m---------------------------------------------------------------------------\u001b[0m",
      "\u001b[0;31mNameError\u001b[0m                                 Traceback (most recent call last)",
      "Cell \u001b[0;32mIn[6], line 2\u001b[0m\n\u001b[1;32m      1\u001b[0m fig, axes \u001b[38;5;241m=\u001b[39m plt\u001b[38;5;241m.\u001b[39msubplots(\u001b[38;5;241m1\u001b[39m,\u001b[38;5;241m2\u001b[39m,figsize\u001b[38;5;241m=\u001b[39m(\u001b[38;5;241m12\u001b[39m,\u001b[38;5;241m4\u001b[39m))\n\u001b[0;32m----> 2\u001b[0m im0 \u001b[38;5;241m=\u001b[39m axes[\u001b[38;5;241m0\u001b[39m]\u001b[38;5;241m.\u001b[39mimshow(\u001b[43mtransition_prob_matrix\u001b[49m\u001b[38;5;241m.\u001b[39mT, origin\u001b[38;5;241m=\u001b[39m\u001b[38;5;124m'\u001b[39m\u001b[38;5;124mlower\u001b[39m\u001b[38;5;124m'\u001b[39m, aspect\u001b[38;5;241m=\u001b[39m\u001b[38;5;124m'\u001b[39m\u001b[38;5;124mauto\u001b[39m\u001b[38;5;124m'\u001b[39m, cmap\u001b[38;5;241m=\u001b[39m\u001b[38;5;124m'\u001b[39m\u001b[38;5;124mviridis\u001b[39m\u001b[38;5;124m'\u001b[39m)\n\u001b[1;32m      3\u001b[0m plt\u001b[38;5;241m.\u001b[39mcolorbar(im0, label\u001b[38;5;241m=\u001b[39m\u001b[38;5;124m'\u001b[39m\u001b[38;5;124mTransition Probability\u001b[39m\u001b[38;5;124m'\u001b[39m, ax\u001b[38;5;241m=\u001b[39maxes[\u001b[38;5;241m0\u001b[39m])\n\u001b[1;32m      4\u001b[0m axes[\u001b[38;5;241m0\u001b[39m]\u001b[38;5;241m.\u001b[39mset_xlabel(\u001b[38;5;124m'\u001b[39m\u001b[38;5;124mState i (src)\u001b[39m\u001b[38;5;124m'\u001b[39m)\n",
      "\u001b[0;31mNameError\u001b[0m: name 'transition_prob_matrix' is not defined"
     ]
    },
    {
     "data": {
      "image/png": "[encoded data removed]",
      "text/plain": [
       "<Figure size 1200x400 with 2 Axes>"
      ]
     },
     "metadata": {},
     "output_type": "display_data"
    }
   ],
   "source": [
    "fig, axes = plt.subplots(1,2,figsize=(12,4))\n",
    "im0 = axes[0].imshow(transition_prob_matrix.T, origin='lower', aspect='auto', cmap='viridis')\n",
    "plt.colorbar(im0, label='Transition Probability', ax=axes[0])\n",
    "axes[0].set_xlabel('State i (src)')\n",
    "axes[0].set_ylabel('State j (dst)')\n",
    "# axes[0].set_title('Transition Matrix')\n",
    "\n",
    "im1 = axes[1].imshow(transition_prob_matrix.T, origin='lower', aspect='auto', cmap='viridis', norm=\"log\")\n",
    "plt.colorbar(im1, label='Transition Log Probability', ax=axes[1])\n",
    "axes[1].set_xlabel('State i (src)')\n",
    "axes[1].set_ylabel('State j (dst)')\n",
    "axes[1].set_title('')\n",
    "\n",
    "fig.suptitle(\"State Transition Matrix\")\n",
    "pass"
   ]
  },
  {
   "cell_type": "code",
   "execution_count": 7,
   "metadata": {},
   "outputs": [
    {
     "ename": "NameError",
     "evalue": "name 'transition_prob_matrix' is not defined",
     "output_type": "error",
     "traceback": [
      "\u001b[0;31m---------------------------------------------------------------------------\u001b[0m",
      "\u001b[0;31mNameError\u001b[0m                                 Traceback (most recent call last)",
      "Cell \u001b[0;32mIn[7], line 3\u001b[0m\n\u001b[1;32m      1\u001b[0m \u001b[38;5;66;03m# Linear algebra by ChatGPT\u001b[39;00m\n\u001b[1;32m      2\u001b[0m \u001b[38;5;66;03m# Solve for the stationary distribution\u001b[39;00m\n\u001b[0;32m----> 3\u001b[0m eigenvalues, eigenvectors \u001b[38;5;241m=\u001b[39m np\u001b[38;5;241m.\u001b[39mlinalg\u001b[38;5;241m.\u001b[39meig(\u001b[43mtransition_prob_matrix\u001b[49m\u001b[38;5;241m.\u001b[39mT)\n\u001b[1;32m      4\u001b[0m stationary_vector \u001b[38;5;241m=\u001b[39m eigenvectors[:, np\u001b[38;5;241m.\u001b[39misclose(eigenvalues, \u001b[38;5;241m1\u001b[39m)]\n\u001b[1;32m      6\u001b[0m \u001b[38;5;28;01massert\u001b[39;00m stationary_vector\u001b[38;5;241m.\u001b[39mshape[\u001b[38;5;241m1\u001b[39m] \u001b[38;5;241m==\u001b[39m \u001b[38;5;241m1\u001b[39m, \u001b[38;5;124m\"\u001b[39m\u001b[38;5;124mStationary distribution is not unique\u001b[39m\u001b[38;5;124m\"\u001b[39m\n",
      "\u001b[0;31mNameError\u001b[0m: name 'transition_prob_matrix' is not defined"
     ]
    }
   ],
   "source": [
    "# Linear algebra by ChatGPT\n",
    "# Solve for the stationary distribution\n",
    "eigenvalues, eigenvectors = np.linalg.eig(transition_prob_matrix.T)\n",
    "stationary_vector = eigenvectors[:, np.isclose(eigenvalues, 1)]\n",
    "\n",
    "assert stationary_vector.shape[1] == 1, \"Stationary distribution is not unique\"\n",
    "\n",
    "# Normalize the stationary vector to sum to 1\n",
    "stationary_distribution = stationary_vector / np.sum(stationary_vector)\n",
    "stationary_distribution = stationary_distribution.real.flatten()\n",
    "\n",
    "plt.title(f\"TICA Componenent\")\n",
    "plt.hist(np.concatenate(binned_componenents), bins=num_bins, density=True, label=\"WESTPA observations\")\n",
    "plt.plot(stationary_distribution, label=\"MSM equilibrium density\")\n",
    "plt.legend()\n",
    "pass"
   ]
  },
  {
   "cell_type": "code",
   "execution_count": 7,
   "metadata": {},
   "outputs": [
    {
     "ename": "NameError",
     "evalue": "name 'transition_prob_matrix' is not defined",
     "output_type": "error",
     "traceback": [
      "\u001b[0;31m---------------------------------------------------------------------------\u001b[0m",
      "\u001b[0;31mNameError\u001b[0m                                 Traceback (most recent call last)",
      "\u001b[0;32m<ipython-input-7-3c8e07fa0f3b>\u001b[0m in \u001b[0;36m<module>\u001b[0;34m\u001b[0m\n\u001b[0;32m----> 1\u001b[0;31m \u001b[0;32mfor\u001b[0m \u001b[0mi\u001b[0m \u001b[0;32min\u001b[0m \u001b[0mrange\u001b[0m\u001b[0;34m(\u001b[0m\u001b[0mlen\u001b[0m\u001b[0;34m(\u001b[0m\u001b[0mtransition_prob_matrix\u001b[0m\u001b[0;34m)\u001b[0m\u001b[0;34m)\u001b[0m\u001b[0;34m:\u001b[0m\u001b[0;34m\u001b[0m\u001b[0;34m\u001b[0m\u001b[0m\n\u001b[0m\u001b[1;32m      2\u001b[0m     \u001b[0mplt\u001b[0m\u001b[0;34m.\u001b[0m\u001b[0mplot\u001b[0m\u001b[0;34m(\u001b[0m\u001b[0mtransition_prob_matrix\u001b[0m\u001b[0;34m[\u001b[0m\u001b[0mi\u001b[0m\u001b[0;34m]\u001b[0m\u001b[0;34m.\u001b[0m\u001b[0mT\u001b[0m\u001b[0;34m,\u001b[0m \u001b[0mlabel\u001b[0m\u001b[0;34m=\u001b[0m\u001b[0mi\u001b[0m\u001b[0;34m,\u001b[0m \u001b[0mc\u001b[0m\u001b[0;34m=\u001b[0m\u001b[0mplt\u001b[0m\u001b[0;34m.\u001b[0m\u001b[0mcolormaps\u001b[0m\u001b[0;34m[\u001b[0m\u001b[0;34m\"rainbow\"\u001b[0m\u001b[0;34m]\u001b[0m\u001b[0;34m(\u001b[0m\u001b[0mi\u001b[0m\u001b[0;34m/\u001b[0m\u001b[0mlen\u001b[0m\u001b[0;34m(\u001b[0m\u001b[0mtransition_prob_matrix\u001b[0m\u001b[0;34m)\u001b[0m\u001b[0;34m)\u001b[0m\u001b[0;34m)\u001b[0m\u001b[0;34m\u001b[0m\u001b[0;34m\u001b[0m\u001b[0m\n\u001b[1;32m      3\u001b[0m \u001b[0mplt\u001b[0m\u001b[0;34m.\u001b[0m\u001b[0mylabel\u001b[0m\u001b[0;34m(\u001b[0m\u001b[0;34m\"Probability\"\u001b[0m\u001b[0;34m)\u001b[0m\u001b[0;34m\u001b[0m\u001b[0;34m\u001b[0m\u001b[0m\n\u001b[1;32m      4\u001b[0m \u001b[0mplt\u001b[0m\u001b[0;34m.\u001b[0m\u001b[0mxlabel\u001b[0m\u001b[0;34m(\u001b[0m\u001b[0;34m\"Next state\"\u001b[0m\u001b[0;34m)\u001b[0m\u001b[0;34m\u001b[0m\u001b[0;34m\u001b[0m\u001b[0m\n\u001b[1;32m      5\u001b[0m \u001b[0;31m# plt.legend(title=\"Current State\")\u001b[0m\u001b[0;34m\u001b[0m\u001b[0;34m\u001b[0m\u001b[0;34m\u001b[0m\u001b[0m\n",
      "\u001b[0;31mNameError\u001b[0m: name 'transition_prob_matrix' is not defined"
     ]
    }
   ],
   "source": [
    "for i in range(len(transition_prob_matrix)):\n",
    "    plt.plot(transition_prob_matrix[i].T, label=i, c=plt.colormaps[\"rainbow\"](i/len(transition_prob_matrix)))\n",
    "plt.ylabel(\"Probability\")\n",
    "plt.xlabel(\"Next state\")\n",
    "# plt.legend(title=\"Current State\")\n",
    "\n",
    "plt.colorbar(\n",
    "    matplotlib.cm.ScalarMappable(cmap=plt.colormaps[\"rainbow\"]),\n",
    "    ax=plt.gca(), values=[*range(len(transition_prob_matrix)+1)],\n",
    "    label=\"Source State\")\n",
    "\n",
    "# plt.colorbar(\n",
    "#     matplotlib.cm.ScalarMappable(\n",
    "#         norm = matplotlib.colors.BoundaryNorm([*range(len(transition_prob_matrix)+1)], plt.colormaps[\"rainbow\"].N),\n",
    "#         cmap=plt.colormaps[\"rainbow\"]),\n",
    "#     ax=plt.gca(), label=\"Source State\")\n",
    "\n",
    "pass"
   ]
  },
  {
   "cell_type": "code",
   "execution_count": 11,
   "metadata": {},
   "outputs": [
    {
     "data": {
      "text/plain": [
       "<matplotlib.legend.Legend at 0x7f1e945a8d10>"
      ]
     },
     "execution_count": 11,
     "metadata": {},
     "output_type": "execute_result"
    },
    {
     "data": {
      "image/png": "[encoded data removed]",
      "text/plain": [
       "<Figure size 640x480 with 1 Axes>"
      ]
     },
     "metadata": {},
     "output_type": "display_data"
    }
   ],
   "source": [
    "# Examining some individual bins\n",
    "\n",
    "# for i in range(30,35):\n",
    "for i in [7, 32]:\n",
    "    plt.plot(transition_prob_matrix[i].T, label=i)\n",
    "plt.ylabel(\"Probability\")\n",
    "plt.xlabel(\"Next state\")\n",
    "plt.legend(title=\"Current State\")"
   ]
  },
  {
   "cell_type": "code",
   "execution_count": null,
   "metadata": {},
   "outputs": [],
   "source": []
  }
 ],
 "metadata": {
  "kernelspec": {
   "display_name": "andy-report-3",
   "language": "python",
   "name": "andy-reports-3"
  },
  "language_info": {
   "codemirror_mode": {
    "name": "ipython",
    "version": 3
   },
   "file_extension": ".py",
   "mimetype": "text/x-python",
   "name": "python",
   "nbconvert_exporter": "python",
   "pygments_lexer": "ipython3",
   "version": "3.11.9"
  }
 },
 "nbformat": 4,
 "nbformat_minor": 5
}

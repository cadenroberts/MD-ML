{
 "cells": [
  {
   "cell_type": "code",
   "execution_count": 2,
   "metadata": {},
   "outputs": [],
   "source": [
    "import h5py\n",
    "import matplotlib\n",
    "import matplotlib.pyplot as plt\n",
    "import os\n",
    "import glob\n",
    "import mdtraj as md\n",
    "import numpy as np\n",
    "from tqdm import tqdm\n",
    "from westpa_helpers import *"
   ]
  },
  {
   "cell_type": "code",
   "execution_count": 3,
   "metadata": {},
   "outputs": [],
   "source": [
    "protein = \"chignolin\""
   ]
  },
  {
   "cell_type": "code",
   "execution_count": null,
   "metadata": {},
   "outputs": [],
   "source": [
    "# Change this to the root of the run\n",
    "home_path=f\"/media/DATA_18_TB_1/awaghili/WESTPA_CG/harmonic_mix_{protein_name}_2d/westpa_prop\"\n",
    "os.chdir(home_path)\n",
    "\n",
    "sim_config = extract_simulation_config()\n",
    "\n",
    "# Will be needed to unpickle the TICA models\n",
    "import sys\n",
    "sys.path.append(sim_config['cgschnet_path'])"
   ]
  },
  {
   "cell_type": "code",
   "execution_count": null,
   "metadata": {},
   "outputs": [],
   "source": [
    "import re\n",
    "\n",
    "coordinate_files = []\n",
    "\n",
    "def extract_number(filename):\n",
    "    match = re.search(fr'{protein_name}_(\\d+)\\.h5', filename)\n",
    "    return int(match.group(1)) if match else float('inf') \n",
    "\n",
    "\n",
    "# Expand the glob pattern into a list\n",
    "expanded_files = sorted(glob.glob(\n",
    "    home_path + \"/combined_trajs/*.h5\" #Change this to *_all.h5 if you only want the final result\n",
    "), key=extract_number)\n",
    "\n",
    "# Append the matched files to the coordinate_files list\n",
    "# coordinate_files.extend(expanded_files)"
   ]
  },
  {
   "cell_type": "code",
   "execution_count": null,
   "metadata": {},
   "outputs": [],
   "source": [
    "model = load_tica_model(sim_config[\"tica_model_path\"])\n",
    "coordinate_list, label_list = load_trajectories(coordinate_files, size_limit=1000000)"
   ]
  },
  {
   "cell_type": "code",
   "execution_count": null,
   "metadata": {},
   "outputs": [],
   "source": [
    "import numpy as np\n",
    "from sklearn.neighbors import KernelDensity\n",
    "\n",
    "def generate_energy_based_bins(data, num_bins=15, bandwidth=0.2, oversample=5, alpha=0.5):\n",
    "    \"\"\"\n",
    "    Generate rectilinear bins with finer resolution in low-density (high-energy) regions.\n",
    "\n",
    "    Parameters:\n",
    "    - data (np.ndarray): 1D TICA projection.\n",
    "    - num_bins (int): Desired number of bin edges (excluding -inf/inf).\n",
    "    - bandwidth (float): KDE bandwidth for density estimation.\n",
    "    - oversample (int): Multiplier for intermediate binning resolution.\n",
    "\n",
    "    Returns:\n",
    "    - bin_edges (list): Bin edges including '-inf' and 'inf'.\n",
    "    \"\"\"\n",
    "    # 1. KDE estimate\n",
    "    data = data.reshape(-1, 1)\n",
    "    kde = KernelDensity(kernel='gaussian', bandwidth=bandwidth).fit(data)\n",
    "    grid = np.linspace(data.min(), data.max(), num_bins * oversample).reshape(-1, 1)\n",
    "    log_density = kde.score_samples(grid)\n",
    "    density = np.exp(log_density)\n",
    "\n",
    "    # 2. Blended weights: combine density and inverse-density\n",
    "    inv_density = 1 / (density + 1e-12)\n",
    "    blend_weights = alpha * inv_density + (1 - alpha) * density\n",
    "    norm_weights = blend_weights / blend_weights.sum()\n",
    "\n",
    "    # 3. Compute cumulative weights and find equally spaced cutoffs\n",
    "    cdf = np.cumsum(norm_weights)\n",
    "    cdf /= cdf[-1]\n",
    "    edges_idx = np.searchsorted(cdf, np.linspace(0, 1, num_bins + 1))\n",
    "\n",
    "    # 4. Map those indices back to bin edges\n",
    "    bin_edges = grid[edges_idx].flatten()\n",
    "    bin_edges = [-np.inf] + list(np.round(bin_edges[1:-1], 2)) + [np.inf]\n",
    "    \n",
    "    return bin_edges\n"
   ]
  },
  {
   "cell_type": "code",
   "execution_count": null,
   "metadata": {},
   "outputs": [],
   "source": [
    "components_to_calculate = range(2) # Number of components to calculate\n",
    "tica_plot_pad = 0.2\n",
    "\n",
    "kB = 0.0019872041 # kcal/mol/Kelvin\n",
    "Temp = 300 # Kelvin"
   ]
  },
  {
   "cell_type": "code",
   "execution_count": null,
   "metadata": {},
   "outputs": [],
   "source": [
    "component_values = [calculate_component_values(model, c, components_to_calculate) for c in tqdm(coordinate_list)]\n",
    "component_values[0].keys(), [[len(v) for v in c.values()] for c in component_values]\n",
    "\n",
    "component_maxs = [max([max(c[tica_comp]) for c in component_values]) for tica_comp in components_to_calculate]\n",
    "component_mins = [min([min(c[tica_comp]) for c in component_values]) for tica_comp in components_to_calculate]\n",
    "component_range = [*zip(component_mins, component_maxs)]"
   ]
  }
 ],
 "metadata": {
  "kernelspec": {
   "display_name": "andy-report-3",
   "language": "python",
   "name": "andy-reports-3"
  },
  "language_info": {
   "codemirror_mode": {
    "name": "ipython",
    "version": 3
   },
   "file_extension": ".py",
   "mimetype": "text/x-python",
   "name": "python",
   "nbconvert_exporter": "python",
   "pygments_lexer": "ipython3",
   "version": "3.11.9"
  }
 },
 "nbformat": 4,
 "nbformat_minor": 4
}

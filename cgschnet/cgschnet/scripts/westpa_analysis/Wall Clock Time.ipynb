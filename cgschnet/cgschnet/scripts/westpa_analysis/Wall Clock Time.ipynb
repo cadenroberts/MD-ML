{
 "cells": [
  {
   "cell_type": "code",
   "execution_count": 6,
   "metadata": {},
   "outputs": [],
   "source": [
    "import os\n",
    "home_path=f\"/media/DATA_18_TB_1/awaghili/WESTPA_MM/mabbin_chignolin_2/westpa_prop\"\n",
    "os.chdir(home_path)"
   ]
  },
  {
   "cell_type": "code",
   "execution_count": 7,
   "metadata": {},
   "outputs": [],
   "source": [
    "import h5py\n",
    "import matplotlib\n",
    "import matplotlib.pyplot as plt\n",
    "import numpy as np"
   ]
  },
  {
   "cell_type": "code",
   "execution_count": 8,
   "metadata": {},
   "outputs": [
    {
     "name": "stdout",
     "output_type": "stream",
     "text": [
      "Total wallclock time from summary: 10:01:56.389\n"
     ]
    }
   ],
   "source": [
    "import h5py\n",
    "import numpy as np\n",
    "from datetime import timedelta\n",
    "\n",
    "file_path = \"west.h5\"\n",
    "skip_iters_until = 0\n",
    "\n",
    "with h5py.File(file_path, 'r') as h5_file:\n",
    "    summary = h5_file[\"summary\"]\n",
    "    walltimes = summary[\"walltime\"][skip_iters_until:]\n",
    "    total_walltime = np.sum(walltimes)\n",
    "\n",
    "# Convert to HH:MM:SS.MSSS\n",
    "td = timedelta(seconds=total_walltime)\n",
    "hours, remainder = divmod(td.total_seconds(), 3600)\n",
    "minutes, seconds = divmod(remainder, 60)\n",
    "milliseconds = int((seconds - int(seconds)) * 1000)\n",
    "\n",
    "formatted = f\"{int(hours):02}:{int(minutes):02}:{int(seconds):02}.{milliseconds:03}\"\n",
    "print(f\"Total wallclock time from summary: {formatted}\")\n"
   ]
  },
  {
   "cell_type": "code",
   "execution_count": null,
   "metadata": {},
   "outputs": [],
   "source": []
  }
 ],
 "metadata": {
  "kernelspec": {
   "display_name": "andy-report-3",
   "language": "python",
   "name": "andy-reports-3"
  },
  "language_info": {
   "codemirror_mode": {
    "name": "ipython",
    "version": 3
   },
   "file_extension": ".py",
   "mimetype": "text/x-python",
   "name": "python",
   "nbconvert_exporter": "python",
   "pygments_lexer": "ipython3",
   "version": "3.11.9"
  }
 },
 "nbformat": 4,
 "nbformat_minor": 4
}

{
 "cells": [
  {
   "cell_type": "code",
   "execution_count": 4,
   "metadata": {},
   "outputs": [],
   "source": [
    "pdbs = []\n",
    "pdb_lengths = []\n",
    "with open('sequences2.txt', \"rt\") as seqfile:\n",
    "    for line in seqfile.read().strip().split(\"\\n\"):\n",
    "        pdbid, seq = line.strip().split(\":\")\n",
    "        seq = seq.strip()\n",
    "        pdbs.append(pdbid)\n",
    "        pdb_lengths.append(len(seq))\n",
    "        # if len(seq) > 400:\n",
    "        #     longer.append(seq)\n",
    "        # else:\n",
    "        #     shorter.append(seq)\n",
    "# print(len(shorter), len(longer))"
   ]
  },
  {
   "cell_type": "code",
   "execution_count": 5,
   "metadata": {},
   "outputs": [
    {
     "data": {
      "image/png": "[encoded data removed]",
      "text/plain": [
       "<Figure size 640x480 with 1 Axes>"
      ]
     },
     "metadata": {},
     "output_type": "display_data"
    }
   ],
   "source": [
    "from matplotlib import pyplot as plt\n",
    "\n",
    "plt.hist(pdb_lengths, bins=100)\n",
    "pass"
   ]
  },
  {
   "cell_type": "code",
   "execution_count": 6,
   "metadata": {},
   "outputs": [
    {
     "name": "stdout",
     "output_type": "stream",
     "text": [
      "713 669\n"
     ]
    }
   ],
   "source": [
    "single_chain_pdbs = []\n",
    "for id, seq_len in zip(pdbs, pdb_lengths):\n",
    "    if seq_len < 400:\n",
    "        single_chain_pdbs.append(id)\n",
    "print(len(pdbs), len(single_chain_pdbs))"
   ]
  },
  {
   "cell_type": "code",
   "execution_count": 7,
   "metadata": {},
   "outputs": [],
   "source": [
    "# Use the list from above that removes very large ones\n",
    "# single_chain_pdbs = [\"132L\", \"133L\", \"153L\", \"189L\", \"1A3H\", \"1A58\", \"1A8Q\", \"1AA2\", \"1AAJ\", \"1ACF\", \"1ACX\", \"1AD6\", \"1AGI\", \"1AHC\", \"1AHO\", \"1AKO\", \"1AKZ\", \"1ALB\", \"1AM5\", \"1AMM\", \"1ARL\", \"1AUN\", \"1AYD\", \"1B1J\", \"1B31\", \"1B7I\", \"1BBC\", \"1BD8\", \"1BHE\", \"1BK2\", \"1BK7\", \"1BM8\", \"1BMG\", \"1BOL\", \"1BQC\", \"1BSQ\", \"1BTI\", \"1BUE\", \"1BZ4\", \"1C25\", \"1C2A\", \"1C3F\", \"1C44\", \"1C4W\", \"1C5H\", \"1CDJ\", \"1CEM\", \"1CEW\", \"1CK3\", \"1CM2\", \"1CMS\", \"1CQY\", \"1CRN\", \"1CRZ\", \"1CS8\", \"1CSP\", \"1CUE\", \"1CWY\", \"1CZ1\", \"1CZT\", \"1D2K\", \"1D2P\", \"1DAB\", \"1DC9\", \"1DIX\", \"1DJA\", \"1DLC\", \"1DS3\", \"1DSL\", \"1DST\", \"1DUA\", \"1DUS\", \"1DVN\", \"1DVO\", \"1EDE\", \"1EDG\", \"1EDQ\", \"1EHD\", \"1EIC\", \"1EM7\", \"1ENH\", \"1EOD\", \"1EQ6\", \"1EQV\", \"1EW4\", \"1EYH\", \"1F00\", \"1F1S\", \"1F6W\", \"1F94\", \"1FAS\", \"1FAZ\", \"1FBN\", \"1FHL\", \"1FLH\", \"1FNA\", \"1FNF\", \"1FTS\", \"1FUS\", \"1G62\", \"1G8A\", \"1G9O\", \"1GD6\", \"1GGV\", \"1GH2\", \"1GHR\", \"1GLN\", \"1GLO\", \"1GNV\", \"1GOA\", \"1GQZ\", \"1GVL\", \"1GYD\", \"1GYV\", \"1H09\", \"1H3Q\", \"1H6T\", \"1HKA\", \"1HOE\", \"1HPT\", \"1I2T\", \"1I5P\", \"1I60\", \"1IAD\", \"1ICX\", \"1IDK\", \"1IFG\", \"1IJB\", \"1IO2\", \"1IOB\", \"1IS1\", \"1IV8\", \"1J2A\", \"1J7X\", \"1J8S\", \"1JEJ\", \"1JI6\", \"1JLN\", \"1JMW\", \"1JW4\", \"1JWO\", \"1K0F\", \"1K40\", \"1KEX\", \"1KIV\", \"1KOE\", \"1KQX\", \"1KS5\", \"1KS9\", \"1KTE\", \"1KXF\", \"1L2P\", \"1L8F\", \"1LA1\", \"1LLN\", \"1LMI\", \"1LMN\", \"1LP8\", \"1LPJ\", \"1LPL\", \"1LQ0\", \"1MB8\", \"1MD6\", \"1MF7\", \"1MG6\", \"1MH7\", \"1MHN\", \"1MHX\", \"1MIX\", \"1MJC\", \"1MN3\", \"1MUF\", \"1MWP\", \"1MZA\", \"1MZL\", \"1N7N\", \"1N81\", \"1ND7\", \"1NG6\", \"1NHL\", \"1NOA\", \"1NTN\", \"1O73\", \"1O8I\", \"1OA4\", \"1OGW\", \"1OJQ\", \"1OLR\", \"1OOI\", \"1OPS\", \"1P1L\", \"1P3C\", \"1P4X\", \"1P6P\", \"1PBV\", \"1PCL\", \"1PDB\", \"1PEF\", \"1PRZ\", \"1PVX\", \"1PXU\", \"1Q2U\", \"1Q2Y\", \"1QAU\", \"1QCX\", \"1QMT\", \"1QQY\", \"1QTF\", \"1QTP\", \"1QZM\", \"1R8N\", \"1RC9\", \"1RHD\", \"1RKM\", \"1RTC\", \"1S29\", \"1SBX\", \"1SKF\", \"1SLL\", \"1SN1\", \"1SNB\", \"1SRV\", \"1T00\", \"1T2I\", \"1T45\", \"1TEN\", \"1TGO\", \"1THV\", \"1TIB\", \"1TJE\", \"1TQG\", \"1TUX\", \"1TVQ\", \"1TZQ\", \"1U09\", \"1U9A\", \"1UG4\", \"1UH7\", \"1UKF\", \"1UOK\", \"1UOY\", \"1VCC\", \"1VFF\", \"1VGJ\", \"1W8V\", \"1WGB\", \"1WKX\", \"1WP5\", \"1WS6\", \"1WU3\", \"1WWB\", \"1WWI\", \"1WY3\", \"1X0M\", \"1X1H\", \"1X3O\", \"1XDW\", \"1XEU\", \"1XGD\", \"1XIX\", \"1XND\", \"1XT0\", \"1XWC\", \"1Y0M\", \"1Y6I\", \"1YP5\", \"1YPA\", \"1YU5\", \"1YW5\", \"1YZF\", \"1Z15\", \"1ZEQ\", \"1ZHV\", \"1ZLB\", \"1ZLM\", \"2A6Z\", \"2ABL\", \"2AC4\", \"2AF0\", \"2AH5\", \"2AHN\", \"2AWG\", \"2AZP\", \"2B8I\", \"2BAA\", \"2BFH\", \"2BFI\", \"2BK8\", \"2C6U\", \"2C83\", \"2CC1\", \"2CG7\", \"2CKX\", \"2COQ\", \"2CW4\", \"2CWY\", \"2CYG\", \"2DYI\", \"2E0Q\", \"2EHG\", \"2ERA\", \"2ERF\", \"2ESK\", \"2EVB\", \"2EXO\", \"2EYI\", \"2F82\", \"2FBO\", \"2FC3\", \"2FCB\", \"2FJZ\", \"2FPH\", \"2FRG\", \"2G5X\", \"2GGO\", \"2GPR\", \"2H0M\", \"2H2Z\", \"2HC8\", \"2HE7\", \"2HLQ\", \"2HVM\", \"2I6I\", \"2I6V\", \"2ICC\", \"2ICT\", \"2IE8\", \"2IIY\", \"2IN0\", \"2J9V\", \"2JA4\", \"2JHY\", \"2LAO\", \"2NLS\", \"2NSC\", \"2O6Q\", \"2O6R\", \"2OF3\", \"2OFS\", \"2OJ4\", \"2OKT\", \"2ORX\", \"2OV1\", \"2OZF\", \"2P30\", \"2P52\", \"2PCY\", \"2PET\", \"2PKO\", \"2PLC\", \"2PM1\", \"2PNE\", \"2PPN\", \"2PTH\", \"2PVT\", \"2Q9V\", \"2QEV\", \"2QHE\", \"2QHT\", \"2QT4\", \"2QZQ\", \"2R0S\", \"2RA1\", \"2RH3\", \"2RKQ\", \"2SFA\", \"2SIL\", \"2V14\", \"2V6C\", \"2VIM\", \"2VQ4\", \"2VWR\", \"2W0G\", \"2W0I\", \"2W9Q\", \"2WBC\", \"2X8X\", \"2X9Z\", \"2YGS\", \"2YWO\", \"2YWZ\", \"2ZEQ\", \"3A4C\", \"3A7L\", \"3AAP\", \"3ACP\", \"3APP\", \"3BN6\", \"3CAF\", \"3CBH\", \"3CH7\", \"3CO1\", \"3CSR\", \"3CTK\", \"3D4M\", \"3DJ9\", \"3DJN\", \"3DPA\", \"3E4H\", \"3E7R\", \"3E9U\", \"3ETP\", \"3EZM\", \"3F6P\", \"3F7M\", \"3FH2\", \"3FHF\", \"3FK5\", \"3FS5\", \"3G4P\", \"3GBL\", \"3H8N\", \"3HAK\", \"3HBH\", \"3HVM\", \"3ID4\", \"3ILS\", \"3IPZ\", \"3IV4\", \"3JZ9\", \"3JZZ\", \"3K1D\", \"3KB5\", \"3KJE\", \"3KJZ\", \"3KT9\", \"3KVD\", \"3LD1\", \"3LFO\", \"3LIG\", \"3LSD\", \"3LY3\", \"3M66\", \"3M6C\", \"3M70\", \"3MX7\", \"3MXX\", \"3MZZ\", \"3N0K\", \"3N4U\", \"3ND2\", \"3NJW\", \"3O04\", \"3O5G\", \"3O7T\", \"3ONJ\", \"3OZH\", \"3P7K\", \"3PBH\", \"3PG4\", \"3PM2\", \"3QPD\", \"3R6D\", \"3RD2\", \"3RDJ\", \"3RJP\", \"3S0A\", \"3SEB\", \"3SH4\", \"3SO8\", \"3T5B\", \"3T7F\", \"3TIP\", \"3TOW\", \"3TUA\", \"3UCI\", \"3UFC\", \"3V1A\", \"3VC0\", \"3VFI\", \"3VOR\", \"3VPY\", \"3WP5\", \"3WY8\", \"3ZSL\", \"4A02\", \"4ACJ\", \"4APE\", \"4B50\", \"4BFH\", \"4BPF\", \"4CFI\", \"4CVD\", \"4DJ5\", \"4DNU\", \"4DOM\", \"4E2U\", \"4ETX\", \"4EVM\", \"4GN2\", \"4IPC\", \"4IZE\", \"4J5Q\", \"4JCN\", \"4JJO\", \"4JP6\", \"4JZC\", \"4KK4\", \"4L1H\", \"4L5Q\", \"4LFQ\", \"4LSW\", \"4MCK\", \"4MHP\", \"4MJA\", \"4MOA\", \"4N6T\", \"4NF7\", \"4NFB\", \"4NNK\", \"4O6G\", \"4O7Q\", \"4O8S\", \"4OZK\", \"4OZX\", \"4P5P\", \"4P5U\", \"4PA1\", \"4PLQ\", \"4PMH\", \"4POY\", \"4PS6\", \"4QAJ\", \"4QBE\", \"4QTZ\", \"4RNT\", \"4RSX\", \"4RXV\", \"4RZ9\", \"4TTL\", \"4TX7\", \"4U3H\", \"4WJS\", \"4WZ0\", \"4X8H\", \"4XDX\", \"4XIO\", \"4XP8\", \"4Y2K\", \"4YTE\", \"4Z99\", \"4ZM7\", \"4ZP9\", \"5A7L\", \"5AOD\", \"5AVH\", \"5BTH\", \"5C3T\", \"5D6B\", \"5DJ7\", \"5DZ9\", \"5E0Z\", \"5E10\", \"5E5B\", \"5ECA\", \"5EFX\", \"5EHA\", \"5EIQ\", \"5EUN\", \"5EWT\", \"5F6A\", \"5F70\", \"5GUJ\", \"5GY3\", \"5H0Q\", \"5H28\", \"5H3X\", \"5H4E\", \"5HD9\", \"5HFD\", \"5HU4\", \"5IHW\", \"5ILS\", \"5J2V\", \"5LOZ\", \"5M4S\", \"5MGV\", \"5NJO\", \"5NZB\", \"5OQZ\", \"5ORI\", \"5ORM\", \"5TUN\", \"5UVR\", \"5VTL\", \"5XCY\", \"5XEF\", \"5XI8\", \"5Y33\", \"5Y8E\", \"5YDN\", \"5YIU\", \"5YM7\", \"5YNS\", \"5YPV\", \"5YV7\", \"5YWZ\", \"5Z67\", \"5Z7Q\", \"5ZA4\", \"5ZFH\", \"5ZHG\", \"5ZO6\", \"6AFM\", \"6APK\", \"6ATM\", \"6ATN\", \"6ATW\", \"6AZ5\", \"6BIM\", \"6CVA\", \"6DGA\", \"6DR3\", \"6E4N\", \"6E6N\", \"6E6O\", \"6E7E\", \"6ELM\", \"6EXX\", \"6EZW\", \"6F4M\", \"6F53\", \"6FM8\", \"6FMB\", \"6GGP\", \"6GPM\", \"6GV5\", \"6HB9\", \"6HEQ\", \"6IY4\", \"6IYE\", \"6JBP\", \"6JCC\", \"6JL7\", \"6JOY\", \"6JV8\", \"6K98\", \"6KD0\", \"6KND\", \"6KT1\", \"6L34\", \"6L7Q\", \"6LFB\", \"6LG3\", \"6MOW\", \"6MRR\", \"6NZS\", \"6OD2\", \"6Q3V\", \"6QE3\", \"6S97\", \"6SHR\", \"6SWI\", \"6SYG\", \"6TG6\", \"6TYY\", \"6UFW\", \"6VT3\", \"6WES\", \"6WEY\", \"6WIN\", \"6XP8\", \"6YL6\", \"6ZM8\", \"7CHR\", \"7DKR\", \"7DMF\", \"7DMS\", \"7DU0\", \"7E56\", \"7ENM\", \"7FCC\", \"7JT9\", \"7KUW\", \"7LIQ\", \"7PC1\", \"7SNC\", \"7TGP\", \"7TNG\", \"7VIJ\", \"7VTK\", \"7VTY\", \"7W3W\", \"7WVR\", \"7XCD\", \"7XHZ\", \"7XPW\", \"7Y54\", \"7Y7N\", \"7ZQ0\", \"8A55\", \"8A8S\", \"8BBM\", \"8BOJ\", \"8BTU\", \"8BY4\", \"8DOE\", \"8EHU\", \"8ERE\", \"8G22\", \"8GOK\", \"8GQQ\", \"8HQW\", \"8HT3\", \"8HWO\", \"8HXS\", \"8I2D\", \"8ILZ\", \"8JED\", \"8JJ7\", \"8JN0\", \"8JU8\", \"8SNQ\"]\n",
    "#Remove broken ones:\n",
    "broken_single_chain_pdbs = ['3CBH', '1AM5', '3DPA', '1PCL', '5MGV']\n",
    "# ['3CBH', '1AM5', '1PCL'] # Are already course grained (only contain CAs)\n",
    "# 1AM5 is missing a couple residues (lenght 1 gaps)\n",
    "# 5MGV is not technically missing anything but has peptide bonds longer than 0.2 nm\n",
    "single_chain_pdbs = [i for i in single_chain_pdbs if not i in broken_single_chain_pdbs]"
   ]
  },
  {
   "cell_type": "code",
   "execution_count": 8,
   "metadata": {},
   "outputs": [
    {
     "data": {
      "text/plain": [
       "'[\"1WP5\", \"1DJA\", \"6Q3V\", \"1PVX\", \"1IS1\", \"1P1L\", \"6WEY\", \"7LIQ\", \"2OV1\", \"6GGP\", \"2BFH\", \"2WBC\", \"1GNV\", \"2QHE\", \"6GPM\", \"1OJQ\", \"1YP5\", \"8EHU\", \"1TQG\", \"6AFM\", \"1EYH\", \"1B31\", \"2H2Z\", \"3KJE\", \"7TGP\", \"1IJB\", \"6QE3\", \"1A3H\", \"5UVR\", \"3H8N\", \"1AKZ\", \"1XEU\", \"6ATM\", \"1AAJ\", \"1KIV\", \"2ICT\", \"1ACX\", \"1FNF\", \"3G4P\", \"4OZK\", \"8GOK\", \"7ZQ0\", \"2RKQ\", \"4RZ9\", \"1C25\", \"1QAU\", \"3CH7\", \"5BTH\", \"1JW4\", \"1ALB\", \"1DC9\", \"1FUS\", \"2ERA\", \"3RDJ\", \"1TZQ\", \"1LMI\", \"3ZSL\", \"1BZ4\", \"1PEF\", \"5VTL\", \"5ZHG\", \"2VIM\", \"3OZH\", \"3F7M\", \"1BMG\", \"6HEQ\", \"1MZL\", \"7Y54\", \"3S0A\", \"1CK3\", \"1EQ6\", \"4QBE\", \"3MX7\", \"1WWB\", \"1CM2\", \"3MZZ\", \"1FNA\", \"2VQ4\", \"4TTL\", \"1IO2\", \"1UG4\", \"2BAA\", \"2CG7\", \"1XT0\", \"2AWG\", \"4N6T\", \"1QMT\", \"1C4W\", \"1OGW\", \"6FMB\", \"1NTN\", \"2H0M\", \"1QTP\", \"1O8I\", \"1DIX\", \"1MJC\", \"1UKF\", \"1SNB\", \"1YU5\", \"3KVD\", \"4A02\", \"5HU4\", \"2C6U\", \"4APE\", \"3E7R\", \"1FLH\", \"1L8F\", \"1GYV\", \"6F53\", \"1GYD\", \"3JZZ\", \"1K40\", \"1Y6I\", \"7DMF\", \"3LSD\", \"1OPS\", \"1EQV\", \"4XDX\", \"3FH2\", \"3FHF\", \"1J7X\", \"1EIC\", \"1KEX\", \"1SN1\", \"1DST\", \"1BBC\", \"4B50\", \"1EOD\", \"5HD9\", \"1P3C\", \"1BHE\", \"4O6G\", \"1W8V\", \"1CEM\", \"1WWI\", \"3P7K\", \"1WKX\", \"3KB5\", \"6TYY\", \"6ZM8\", \"3ID4\", \"2NSC\", \"1QZM\", \"1VGJ\", \"6S97\", \"3SO8\", \"1B7I\", \"4NFB\", \"3HVM\", \"3O5G\", \"1KS9\", \"5YDN\", \"2QHT\", \"1BK2\", \"2QEV\", \"4CVD\", \"4J5Q\", \"5ORM\", \"3E4H\", \"1C44\", \"1TJE\", \"1DS3\", \"2ORX\", \"2W9Q\", \"8HXS\", \"189L\", \"3PBH\", \"8DOE\", \"3RJP\", \"1ACF\", \"2OF3\", \"4IPC\", \"2LAO\", \"1F94\", \"1CMS\", \"3VOR\", \"4ZM7\", \"6KND\", \"2P52\", \"5Y8E\", \"1XGD\", \"2HE7\", \"1R8N\", \"1GGV\", \"1K0F\", \"3D4M\", \"1GVL\", \"5NZB\", \"4OZX\", \"6DR3\", \"1WGB\", \"2PM1\", \"5LOZ\", \"3HBH\", \"4XP8\", \"3ILS\", \"2CW4\", \"1X3O\", \"8A8S\", \"4NF7\", \"1IDK\", \"4MCK\", \"4IZE\", \"5H4E\", \"8HT3\", \"6KD0\", \"1FAS\", \"1GLO\", \"1EW4\", \"2PLC\", \"3CSR\", \"8GQQ\", \"1C2A\", \"1KS5\", \"5DJ7\", \"5Z67\", \"6L34\", \"2I6V\", \"7DMS\", \"5M4S\", \"7TNG\", \"1MB8\", \"2FBO\", \"6VT3\", \"3M66\", \"2FCB\", \"8JN0\", \"5ILS\", \"2PCY\", \"1NG6\", \"1IOB\", \"1QTF\", \"3T7F\", \"6L7Q\", \"3F6P\", \"2BK8\", \"1MHN\", \"1JLN\", \"3CO1\", \"1ZLM\", \"1EM7\", \"1CZT\", \"2ICC\", \"1JEJ\", \"1XDW\", \"1CSP\", \"2ABL\", \"3CTK\", \"1GQZ\", \"8BBM\", \"3PG4\", \"5F70\", \"1HKA\", \"1MH7\", \"6ELM\", \"4JJO\", \"8JED\", \"1WY3\", \"4WZ0\", \"5H28\", \"6LG3\", \"1F00\", \"3RD2\", \"2EHG\", \"4PLQ\", \"2B8I\", \"3E9U\", \"5YWZ\", \"6EZW\", \"1ARL\", \"2SFA\", \"8BTU\", \"1BUE\", \"4POY\", \"153L\", \"1LQ0\", \"2ERF\", \"2G5X\", \"1B1J\", \"1UOY\", \"2CYG\", \"1ICX\", \"3BN6\", \"4QAJ\", \"5EFX\", \"2PKO\", \"3V1A\", \"1DVN\", \"6JCC\", \"2PPN\", \"1CQY\", \"3IPZ\", \"2IIY\", \"1FBN\", \"3FS5\", \"5Y33\", \"3A7L\", \"6GV5\", \"2O6Q\", \"1JWO\", \"5XCY\", \"1UH7\", \"6XP8\", \"2W0G\", \"6AZ5\", \"1Q2Y\", \"1RHD\", \"3DJ9\", \"1PDB\", \"4Z99\", \"2PTH\", \"3MXX\", \"1YPA\", \"3APP\", \"5A7L\", \"6E6N\", \"132L\", \"6OD2\", \"5YPV\", \"5E10\", \"4PA1\", \"5H3X\", \"1BK7\", \"4JZC\", \"3EZM\", \"6DGA\", \"7XPW\", \"1FAZ\", \"1TEN\", \"5EWT\", \"5J2V\", \"4RXV\", \"8G22\", \"4P5U\", \"5F6A\", \"5YM7\", \"3LY3\", \"5C3T\", \"4O7Q\", \"1AGI\", \"6EXX\", \"4O8S\", \"4CFI\", \"6MRR\", \"7E56\", \"4MJA\", \"1AKO\", \"7FCC\", \"5AVH\", \"1D2K\", \"4NNK\", \"1RTC\", \"2VWR\", \"4PS6\", \"3DJN\", \"1AHO\", \"6TG6\", \"6SWI\", \"1PRZ\", \"2QZQ\", \"1PXU\", \"3T5B\", \"1D2P\", \"1SRV\", \"5GUJ\", \"3VC0\", \"2FJZ\", \"1HPT\", \"1JMW\", \"2HLQ\", \"1XIX\", \"1CS8\", \"8A55\", \"1MF7\", \"7JT9\", \"2NLS\", \"1LLN\", \"3WY8\", \"3M70\", \"4E2U\", \"3NJW\", \"5DZ9\", \"1WS6\", \"1Z15\", \"2OJ4\", \"3KT9\", \"2FRG\", \"2E0Q\", \"1YW5\", \"7XHZ\", \"1CZ1\", \"3IV4\", \"6E6O\", \"3SEB\", \"2OFS\", \"5Z7Q\", \"4JCN\", \"1OOI\", \"1BM8\", \"2FC3\", \"2ZEQ\", \"1AHC\", \"4BFH\", \"1BSQ\", \"3N0K\", \"6APK\", \"2IE8\", \"1L2P\", \"3A4C\", \"6YL6\", \"1LPL\", \"1MWP\", \"3TIP\", \"7XCD\", \"1LA1\", \"3HAK\", \"5EIQ\", \"4RNT\", \"2QT4\", \"2AF0\", \"1G62\", \"1GOA\", \"1H6T\", \"2C83\", \"1IAD\", \"2V6C\", \"5TUN\", \"4BPF\", \"3ONJ\", \"1MZA\", \"2AZP\", \"1MUF\", \"1BQC\", \"1OLR\", \"7CHR\", \"1P6P\", \"1NOA\", \"1MHX\", \"1IFG\", \"1MD6\", \"1A8Q\", \"1Q2U\", \"1MIX\", \"7ENM\", \"1O73\", \"7DU0\", \"3PM2\", \"1LPJ\", \"1QQY\", \"1DVO\", \"6FM8\", \"1VCC\", \"1EDE\", \"1BOL\", \"1C5H\", \"1T45\", \"8I2D\", \"3LFO\", \"1U9A\", \"3TUA\", \"1GH2\", \"1T00\", \"1DSL\", \"7VTK\", \"2SIL\", \"6JV8\", \"3M6C\", \"1SBX\", \"2J9V\", \"3UCI\", \"8ILZ\", \"4LSW\", \"7W3W\", \"8HQW\", \"2AH5\", \"1AA2\", \"3CAF\", \"6HB9\", \"2FPH\", \"1CUE\", \"6BIM\", \"1YZF\", \"1WU3\", \"2IN0\", \"4PMH\", \"2I6I\", \"1S29\", \"1CEW\", \"2YGS\", \"6CVA\", \"4X8H\", \"5YV7\", \"2ESK\", \"4KK4\", \"6UFW\", \"6ATW\", \"6JBP\", \"1FTS\", \"2PNE\", \"4Y2K\", \"1P4X\", \"6F4M\", \"5YNS\", \"2R0S\", \"8JU8\", \"7WVR\", \"4TX7\", \"2V14\", \"1KXF\", \"4EVM\", \"4QTZ\", \"2AC4\", \"1KQX\", \"5XI8\", \"1ND7\", \"5IHW\", \"7SNC\", \"4LFQ\", \"2CKX\", \"1XWC\", \"1H3Q\", \"3FK5\", \"1ZHV\", \"6K98\", \"2HC8\", \"1J2A\", \"8SNQ\", \"1GHR\", \"5ZO6\", \"1PBV\", \"2JA4\", \"2BFI\", \"1SKF\", \"1FHL\", \"4L1H\", \"8BY4\", \"3QPD\", \"2O6R\", \"2W0I\", \"1H09\", \"1I2T\", \"8BOJ\", \"4ETX\", \"7Y7N\", \"3R6D\", \"1MG6\", \"1THV\", \"2A6Z\", \"6WES\", \"1A58\", \"1N81\", \"2CC1\", \"3UFC\", \"2COQ\", \"2EXO\", \"2X8X\", \"7PC1\", \"1XND\", \"6IY4\", \"3TOW\", \"1NHL\", \"2EYI\", \"1LP8\", \"1BD8\", \"2JHY\", \"1I60\", \"1QCX\", \"5E0Z\", \"4DNU\", \"1OA4\", \"1AD6\", \"2YWZ\", \"1HOE\", \"4GN2\", \"6SYG\", \"4DJ5\", \"3ETP\", \"3N4U\", \"2Q9V\", \"7VTY\", \"6IYE\", \"2DYI\", \"1RC9\", \"2OKT\", \"6WIN\", \"3LD1\", \"6KT1\", \"5H0Q\", \"2PET\", \"5GY3\", \"6SHR\", \"7DKR\", \"4YTE\", \"2HVM\", \"2GPR\", \"1DUA\", \"2EVB\", \"1EDG\", \"2YWO\", \"3VFI\", \"1DUS\", \"5ZFH\", \"6ATN\", \"1LMN\", \"1ZEQ\", \"1GD6\", \"5ECA\", \"8ERE\", \"4DOM\", \"2X9Z\", \"3JZ9\", \"1MN3\", \"2P30\", \"1G9O\", \"3WP5\", \"5YIU\", \"6MOW\", \"5XEF\", \"1J8S\", \"1ZLB\", \"1KOE\", \"1AMM\", \"5NJO\", \"4MHP\", \"2OZF\", \"1TUX\", \"1KTE\", \"1T2I\", \"1Y0M\", \"3KJZ\", \"4RSX\", \"1EHD\", \"4U3H\", \"1ENH\", \"2RH3\", \"5OQZ\", \"3O7T\", \"1G8A\", \"4P5P\", \"3SH4\", \"2CWY\", \"4L5Q\", \"1CRN\", \"133L\", \"3AAP\", \"1AUN\", \"5EHA\", \"8HWO\", \"1C3F\", \"2PVT\", \"5HFD\", \"1TVQ\", \"6E4N\", \"6LFB\", \"4JP6\", \"1BTI\", \"3GBL\", \"2AHN\", \"1TIB\", \"1CDJ\", \"7KUW\", \"4ACJ\", \"3VPY\", \"6E7E\", \"1AYD\"]'"
      ]
     },
     "execution_count": 8,
     "metadata": {},
     "output_type": "execute_result"
    }
   ],
   "source": [
    "import random\n",
    "import json\n",
    "# random.shuffle(single_chain_pdbs)\n",
    "single_chain_pdbs = [\"1WP5\", \"1DJA\", \"6Q3V\", \"1PVX\", \"1IS1\", \"1P1L\", \"6WEY\", \"7LIQ\", \"2OV1\", \"6GGP\", \"2BFH\", \"2WBC\", \"1GNV\", \"2QHE\", \"6GPM\", \"1OJQ\", \"1YP5\", \"8EHU\", \"1TQG\", \"6AFM\", \"1EYH\", \"1B31\", \"2H2Z\", \"3KJE\", \"7TGP\", \"1IJB\", \"6QE3\", \"1A3H\", \"5UVR\", \"3H8N\", \"1AKZ\", \"1XEU\", \"6ATM\", \"1AAJ\", \"1KIV\", \"2ICT\", \"1ACX\", \"1FNF\", \"3G4P\", \"4OZK\", \"8GOK\", \"7ZQ0\", \"2RKQ\", \"4RZ9\", \"1C25\", \"1QAU\", \"3CH7\", \"5BTH\", \"1JW4\", \"1ALB\", \"1DC9\", \"1FUS\", \"2ERA\", \"3RDJ\", \"1TZQ\", \"1LMI\", \"3ZSL\", \"1BZ4\", \"1PEF\", \"5VTL\", \"5ZHG\", \"2VIM\", \"3OZH\", \"3F7M\", \"1BMG\", \"6HEQ\", \"1MZL\", \"7Y54\", \"3S0A\", \"1CK3\", \"1EQ6\", \"4QBE\", \"3MX7\", \"1WWB\", \"1CM2\", \"3MZZ\", \"1FNA\", \"2VQ4\", \"4TTL\", \"1IO2\", \"1UG4\", \"2BAA\", \"2CG7\", \"1XT0\", \"2AWG\", \"4N6T\", \"1QMT\", \"1C4W\", \"1OGW\", \"6FMB\", \"1NTN\", \"2H0M\", \"1QTP\", \"1O8I\", \"1DIX\", \"1MJC\", \"1UKF\", \"1SNB\", \"1YU5\", \"3KVD\", \"4A02\", \"5HU4\", \"2C6U\", \"4APE\", \"3E7R\", \"1FLH\", \"1L8F\", \"1GYV\", \"6F53\", \"1GYD\", \"3JZZ\", \"1K40\", \"1Y6I\", \"7DMF\", \"3LSD\", \"1OPS\", \"1EQV\", \"4XDX\", \"3FH2\", \"3FHF\", \"1J7X\", \"1EIC\", \"1KEX\", \"1SN1\", \"1DST\", \"1BBC\", \"4B50\", \"1EOD\", \"5HD9\", \"1P3C\", \"1BHE\", \"4O6G\", \"1W8V\", \"1CEM\", \"1WWI\", \"3P7K\", \"1WKX\", \"3KB5\", \"6TYY\", \"6ZM8\", \"3ID4\", \"2NSC\", \"1QZM\", \"1VGJ\", \"6S97\", \"3SO8\", \"1B7I\", \"4NFB\", \"3HVM\", \"3O5G\", \"1KS9\", \"5YDN\", \"2QHT\", \"1BK2\", \"2QEV\", \"4CVD\", \"4J5Q\", \"5ORM\", \"3E4H\", \"1C44\", \"1TJE\", \"1DS3\", \"2ORX\", \"2W9Q\", \"8HXS\", \"189L\", \"3PBH\", \"8DOE\", \"3RJP\", \"1ACF\", \"2OF3\", \"4IPC\", \"2LAO\", \"1F94\", \"1CMS\", \"3VOR\", \"4ZM7\", \"6KND\", \"2P52\", \"5Y8E\", \"1XGD\", \"2HE7\", \"1R8N\", \"1GGV\", \"1K0F\", \"3D4M\", \"1GVL\", \"5NZB\", \"4OZX\", \"6DR3\", \"1WGB\", \"2PM1\", \"5LOZ\", \"3HBH\", \"4XP8\", \"3ILS\", \"2CW4\", \"1X3O\", \"8A8S\", \"4NF7\", \"1IDK\", \"4MCK\", \"4IZE\", \"5H4E\", \"8HT3\", \"6KD0\", \"1FAS\", \"1GLO\", \"1EW4\", \"2PLC\", \"3CSR\", \"8GQQ\", \"1C2A\", \"1KS5\", \"5DJ7\", \"5Z67\", \"6L34\", \"2I6V\", \"7DMS\", \"5M4S\", \"7TNG\", \"1MB8\", \"2FBO\", \"6VT3\", \"3M66\", \"2FCB\", \"8JN0\", \"5ILS\", \"2PCY\", \"1NG6\", \"1IOB\", \"1QTF\", \"3T7F\", \"6L7Q\", \"3F6P\", \"2BK8\", \"1MHN\", \"1JLN\", \"3CO1\", \"1ZLM\", \"1EM7\", \"1CZT\", \"2ICC\", \"1JEJ\", \"1XDW\", \"1CSP\", \"2ABL\", \"3CTK\", \"1GQZ\", \"8BBM\", \"3PG4\", \"5F70\", \"1HKA\", \"1MH7\", \"6ELM\", \"4JJO\", \"8JED\", \"1WY3\", \"4WZ0\", \"5H28\", \"6LG3\", \"1F00\", \"3RD2\", \"2EHG\", \"4PLQ\", \"2B8I\", \"3E9U\", \"5YWZ\", \"6EZW\", \"1ARL\", \"2SFA\", \"8BTU\", \"1BUE\", \"4POY\", \"153L\", \"1LQ0\", \"2ERF\", \"2G5X\", \"1B1J\", \"1UOY\", \"2CYG\", \"1ICX\", \"3BN6\", \"4QAJ\", \"5EFX\", \"2PKO\", \"3V1A\", \"1DVN\", \"6JCC\", \"2PPN\", \"1CQY\", \"3IPZ\", \"2IIY\", \"1FBN\", \"3FS5\", \"5Y33\", \"3A7L\", \"6GV5\", \"2O6Q\", \"1JWO\", \"5XCY\", \"1UH7\", \"6XP8\", \"2W0G\", \"6AZ5\", \"1Q2Y\", \"1RHD\", \"3DJ9\", \"1PDB\", \"4Z99\", \"2PTH\", \"3MXX\", \"1YPA\", \"3APP\", \"5A7L\", \"6E6N\", \"132L\", \"6OD2\", \"5YPV\", \"5E10\", \"4PA1\", \"5H3X\", \"1BK7\", \"4JZC\", \"3EZM\", \"6DGA\", \"7XPW\", \"1FAZ\", \"1TEN\", \"5EWT\", \"5J2V\", \"4RXV\", \"8G22\", \"4P5U\", \"5F6A\", \"5YM7\", \"3LY3\", \"5C3T\", \"4O7Q\", \"1AGI\", \"6EXX\", \"4O8S\", \"4CFI\", \"6MRR\", \"7E56\", \"4MJA\", \"1AKO\", \"7FCC\", \"5AVH\", \"1D2K\", \"4NNK\", \"1RTC\", \"2VWR\", \"4PS6\", \"3DJN\", \"1AHO\", \"6TG6\", \"6SWI\", \"1PRZ\", \"2QZQ\", \"1PXU\", \"3T5B\", \"1D2P\", \"1SRV\", \"5GUJ\", \"3VC0\", \"2FJZ\", \"1HPT\", \"1JMW\", \"2HLQ\", \"1XIX\", \"1CS8\", \"8A55\", \"1MF7\", \"7JT9\", \"2NLS\", \"1LLN\", \"3WY8\", \"3M70\", \"4E2U\", \"3NJW\", \"5DZ9\", \"1WS6\", \"1Z15\", \"2OJ4\", \"3KT9\", \"2FRG\", \"2E0Q\", \"1YW5\", \"7XHZ\", \"1CZ1\", \"3IV4\", \"6E6O\", \"3SEB\", \"2OFS\", \"5Z7Q\", \"4JCN\", \"1OOI\", \"1BM8\", \"2FC3\", \"2ZEQ\", \"1AHC\", \"4BFH\", \"1BSQ\", \"3N0K\", \"6APK\", \"2IE8\", \"1L2P\", \"3A4C\", \"6YL6\", \"1LPL\", \"1MWP\", \"3TIP\", \"7XCD\", \"1LA1\", \"3HAK\", \"5EIQ\", \"4RNT\", \"2QT4\", \"2AF0\", \"1G62\", \"1GOA\", \"1H6T\", \"2C83\", \"1IAD\", \"2V6C\", \"5TUN\", \"4BPF\", \"3ONJ\", \"1MZA\", \"2AZP\", \"1MUF\", \"1BQC\", \"1OLR\", \"7CHR\", \"1P6P\", \"1NOA\", \"1MHX\", \"1IFG\", \"1MD6\", \"1A8Q\", \"1Q2U\", \"1MIX\", \"7ENM\", \"1O73\", \"7DU0\", \"3PM2\", \"1LPJ\", \"1QQY\", \"1DVO\", \"6FM8\", \"1VCC\", \"1EDE\", \"1BOL\", \"1C5H\", \"1T45\", \"8I2D\", \"3LFO\", \"1U9A\", \"3TUA\", \"1GH2\", \"1T00\", \"1DSL\", \"7VTK\", \"2SIL\", \"6JV8\", \"3M6C\", \"1SBX\", \"2J9V\", \"3UCI\", \"8ILZ\", \"4LSW\", \"7W3W\", \"8HQW\", \"2AH5\", \"1AA2\", \"3CAF\", \"6HB9\", \"2FPH\", \"1CUE\", \"6BIM\", \"1YZF\", \"1WU3\", \"2IN0\", \"4PMH\", \"2I6I\", \"1S29\", \"1CEW\", \"2YGS\", \"6CVA\", \"4X8H\", \"5YV7\", \"2ESK\", \"4KK4\", \"6UFW\", \"6ATW\", \"6JBP\", \"1FTS\", \"2PNE\", \"4Y2K\", \"1P4X\", \"6F4M\", \"5YNS\", \"2R0S\", \"8JU8\", \"7WVR\", \"4TX7\", \"2V14\", \"1KXF\", \"4EVM\", \"4QTZ\", \"2AC4\", \"1KQX\", \"5XI8\", \"1ND7\", \"5IHW\", \"7SNC\", \"4LFQ\", \"2CKX\", \"1XWC\", \"1H3Q\", \"3FK5\", \"1ZHV\", \"6K98\", \"2HC8\", \"1J2A\", \"8SNQ\", \"1GHR\", \"5ZO6\", \"1PBV\", \"2JA4\", \"2BFI\", \"1SKF\", \"1FHL\", \"4L1H\", \"8BY4\", \"3QPD\", \"2O6R\", \"2W0I\", \"1H09\", \"1I2T\", \"8BOJ\", \"4ETX\", \"7Y7N\", \"3R6D\", \"1MG6\", \"1THV\", \"2A6Z\", \"6WES\", \"1A58\", \"1N81\", \"2CC1\", \"3UFC\", \"2COQ\", \"2EXO\", \"2X8X\", \"7PC1\", \"1XND\", \"6IY4\", \"3TOW\", \"1NHL\", \"2EYI\", \"1LP8\", \"1BD8\", \"2JHY\", \"1I60\", \"1QCX\", \"5E0Z\", \"4DNU\", \"1OA4\", \"1AD6\", \"2YWZ\", \"1HOE\", \"4GN2\", \"6SYG\", \"4DJ5\", \"3ETP\", \"3N4U\", \"2Q9V\", \"7VTY\", \"6IYE\", \"2DYI\", \"1RC9\", \"2OKT\", \"6WIN\", \"3LD1\", \"6KT1\", \"5H0Q\", \"2PET\", \"5GY3\", \"6SHR\", \"7DKR\", \"4YTE\", \"2HVM\", \"2GPR\", \"1DUA\", \"2EVB\", \"1EDG\", \"2YWO\", \"3VFI\", \"1DUS\", \"5ZFH\", \"6ATN\", \"1LMN\", \"1ZEQ\", \"1GD6\", \"5ECA\", \"8ERE\", \"4DOM\", \"2X9Z\", \"3JZ9\", \"1MN3\", \"2P30\", \"1G9O\", \"3WP5\", \"5YIU\", \"6MOW\", \"5XEF\", \"1J8S\", \"1ZLB\", \"1KOE\", \"1AMM\", \"5NJO\", \"4MHP\", \"2OZF\", \"1TUX\", \"1KTE\", \"1T2I\", \"1Y0M\", \"3KJZ\", \"4RSX\", \"1EHD\", \"4U3H\", \"1ENH\", \"2RH3\", \"5OQZ\", \"3O7T\", \"1G8A\", \"4P5P\", \"3SH4\", \"2CWY\", \"4L5Q\", \"1CRN\", \"133L\", \"3AAP\", \"1AUN\", \"5EHA\", \"8HWO\", \"1C3F\", \"2PVT\", \"5HFD\", \"1TVQ\", \"6E4N\", \"6LFB\", \"4JP6\", \"1BTI\", \"3GBL\", \"2AHN\", \"1TIB\", \"1CDJ\", \"7KUW\", \"4ACJ\", \"3VPY\", \"6E7E\", \"1AYD\"]\n",
    "json.dumps(single_chain_pdbs)"
   ]
  },
  {
   "cell_type": "code",
   "execution_count": 9,
   "metadata": {},
   "outputs": [
    {
     "data": {
      "text/plain": [
       "665"
      ]
     },
     "execution_count": 9,
     "metadata": {},
     "output_type": "execute_result"
    }
   ],
   "source": [
    "len(single_chain_pdbs)"
   ]
  },
  {
   "cell_type": "code",
   "execution_count": 10,
   "metadata": {},
   "outputs": [
    {
     "data": {
      "text/plain": [
       "'[\"1WP5\", \"1DJA\", \"6Q3V\", \"1PVX\", \"1IS1\", \"1P1L\", \"6WEY\", \"7LIQ\", \"2OV1\", \"6GGP\", \"2BFH\", \"2WBC\", \"1GNV\", \"2QHE\", \"6GPM\", \"1OJQ\", \"1YP5\", \"8EHU\", \"1TQG\", \"6AFM\", \"1EYH\", \"1B31\", \"2H2Z\", \"3KJE\", \"7TGP\", \"1IJB\", \"6QE3\", \"1A3H\", \"5UVR\", \"3H8N\", \"1AKZ\", \"1XEU\", \"6ATM\", \"1AAJ\", \"1KIV\", \"2ICT\", \"1ACX\", \"1FNF\", \"3G4P\", \"4OZK\", \"8GOK\", \"7ZQ0\", \"2RKQ\", \"4RZ9\", \"1C25\", \"1QAU\", \"3CH7\", \"5BTH\", \"1JW4\", \"1ALB\", \"1DC9\", \"1FUS\", \"2ERA\", \"3RDJ\", \"1TZQ\", \"1LMI\", \"3ZSL\", \"1BZ4\", \"1PEF\", \"5VTL\", \"5ZHG\", \"2VIM\", \"3OZH\", \"3F7M\", \"1BMG\", \"6HEQ\", \"1MZL\", \"7Y54\", \"3S0A\", \"1CK3\", \"1EQ6\", \"4QBE\", \"3MX7\", \"1WWB\", \"1CM2\", \"3MZZ\", \"1FNA\", \"2VQ4\", \"4TTL\", \"1IO2\", \"1UG4\", \"2BAA\", \"2CG7\", \"1XT0\", \"2AWG\", \"4N6T\", \"1QMT\", \"1C4W\", \"1OGW\", \"6FMB\", \"1NTN\", \"2H0M\", \"1QTP\", \"1O8I\", \"1DIX\", \"1MJC\", \"1UKF\", \"1SNB\", \"1YU5\", \"3KVD\", \"4A02\", \"5HU4\", \"2C6U\", \"4APE\", \"3E7R\", \"1FLH\", \"1L8F\", \"1GYV\", \"6F53\", \"1GYD\", \"3JZZ\", \"1K40\", \"1Y6I\", \"7DMF\", \"3LSD\", \"1OPS\", \"1EQV\", \"4XDX\", \"3FH2\", \"3FHF\", \"1J7X\", \"1EIC\", \"1KEX\", \"1SN1\", \"1DST\", \"1BBC\", \"4B50\", \"1EOD\", \"5HD9\", \"1P3C\", \"1BHE\", \"4O6G\", \"1W8V\", \"1CEM\", \"1WWI\", \"3P7K\", \"1WKX\", \"3KB5\", \"6TYY\", \"6ZM8\", \"3ID4\", \"2NSC\", \"1QZM\", \"1VGJ\", \"6S97\", \"3SO8\", \"1B7I\", \"4NFB\", \"3HVM\", \"3O5G\", \"1KS9\", \"5YDN\", \"2QHT\", \"1BK2\", \"2QEV\", \"4CVD\", \"4J5Q\", \"5ORM\", \"3E4H\", \"1C44\", \"1TJE\", \"1DS3\", \"2ORX\", \"2W9Q\", \"8HXS\", \"189L\", \"3PBH\", \"8DOE\", \"3RJP\", \"1ACF\", \"2OF3\", \"4IPC\", \"2LAO\", \"1F94\", \"1CMS\", \"3VOR\", \"4ZM7\", \"6KND\", \"2P52\", \"5Y8E\", \"1XGD\", \"2HE7\", \"1R8N\", \"1GGV\", \"1K0F\", \"3D4M\", \"1GVL\", \"5NZB\", \"4OZX\", \"6DR3\", \"1WGB\", \"2PM1\", \"5LOZ\", \"3HBH\", \"4XP8\", \"3ILS\", \"2CW4\", \"1X3O\", \"8A8S\", \"4NF7\"]'"
      ]
     },
     "execution_count": 10,
     "metadata": {},
     "output_type": "execute_result"
    }
   ],
   "source": [
    "json.dumps(single_chain_pdbs[:200])"
   ]
  },
  {
   "cell_type": "code",
   "execution_count": 11,
   "metadata": {},
   "outputs": [],
   "source": [
    "# html_content = \"<html><body>\"\n",
    "# for pdbid in single_chain_pdbs[:200]:\n",
    "#     html_content += f'<a href=\"https://www.rcsb.org/structure/{pdbid}\">'\n",
    "#     html_content += f'<img src=\"pdb_images/{pdbid.lower()}_assembly-1.jpeg\" width=250 height=250>'\n",
    "#     html_content += f'</a>'\n",
    "# html_content += \"</body></html\"\n",
    "\n",
    "# with open(\"thumbnails_200.html\", \"wt\", encoding=\"utf-8\") as f:\n",
    "#     f.write(html_content)"
   ]
  },
  {
   "cell_type": "code",
   "execution_count": 12,
   "metadata": {},
   "outputs": [],
   "source": [
    "## Note: You need to uncompress the pdbs into tmp/ in order to run this block\n",
    "# from rdkit import Chem\n",
    "# rdkit_failures = [i for i in single_chain_pdbs if Chem.rdmolfiles.MolFromPDBFile(f'tmp/{i}.pdb', removeHs=False, proximityBonding=True) is None]\n",
    "# json.dumps(rdkit_failures)\n",
    "## These files fail to parse because of https://github.com/rdkit/rdkit/issues/6501\n",
    "## This is technically a bug in RDKit, but it implies that some atoms are closer than they really should be so I'd rather leave them out for now\n",
    "rdkit_failures = [\"2WBC\", \"1ACX\", \"1EOD\", \"1C44\", \"1JWO\", \"1RHD\", \"7XHZ\", \"3SEB\", \"1MZA\", \"1OLR\", \"1P6P\", \"1ND7\", \"1BD8\", \"5OQZ\"]"
   ]
  },
  {
   "cell_type": "code",
   "execution_count": 13,
   "metadata": {},
   "outputs": [
    {
     "name": "stdout",
     "output_type": "stream",
     "text": [
      "212\n"
     ]
    },
    {
     "data": {
      "text/plain": [
       "'[\"1WP5\", \"1DJA\", \"6Q3V\", \"1PVX\", \"1IS1\", \"1P1L\", \"6WEY\", \"7LIQ\", \"2OV1\", \"6GGP\", \"2BFH\", \"1GNV\", \"2QHE\", \"6GPM\", \"1OJQ\", \"1YP5\", \"8EHU\", \"1TQG\", \"6AFM\", \"1EYH\", \"1B31\", \"2H2Z\", \"3KJE\", \"7TGP\", \"1IJB\", \"6QE3\", \"1A3H\", \"5UVR\", \"3H8N\", \"1AKZ\", \"1XEU\", \"6ATM\", \"1AAJ\", \"1KIV\", \"2ICT\", \"1FNF\", \"3G4P\", \"4OZK\", \"8GOK\", \"7ZQ0\", \"2RKQ\", \"4RZ9\", \"1C25\", \"1QAU\", \"3CH7\", \"5BTH\", \"1JW4\", \"1ALB\", \"1DC9\", \"1FUS\", \"2ERA\", \"3RDJ\", \"1TZQ\", \"1LMI\", \"3ZSL\", \"1BZ4\", \"1PEF\", \"5VTL\", \"5ZHG\", \"2VIM\", \"3OZH\", \"3F7M\", \"1BMG\", \"6HEQ\", \"1MZL\", \"7Y54\", \"3S0A\", \"1CK3\", \"1EQ6\", \"4QBE\", \"3MX7\", \"1WWB\", \"1CM2\", \"3MZZ\", \"1FNA\", \"2VQ4\", \"4TTL\", \"1IO2\", \"1UG4\", \"2BAA\", \"2CG7\", \"1XT0\", \"2AWG\", \"4N6T\", \"1QMT\", \"1C4W\", \"1OGW\", \"6FMB\", \"1NTN\", \"2H0M\", \"1QTP\", \"1O8I\", \"1DIX\", \"1MJC\", \"1UKF\", \"1SNB\", \"1YU5\", \"3KVD\", \"4A02\", \"5HU4\", \"2C6U\", \"4APE\", \"3E7R\", \"1FLH\", \"1L8F\", \"1GYV\", \"6F53\", \"1GYD\", \"3JZZ\", \"1K40\", \"1Y6I\", \"7DMF\", \"3LSD\", \"1OPS\", \"1EQV\", \"4XDX\", \"3FH2\", \"3FHF\", \"1J7X\", \"1EIC\", \"1KEX\", \"1SN1\", \"1DST\", \"1BBC\", \"4B50\", \"5HD9\", \"1P3C\", \"1BHE\", \"4O6G\", \"1W8V\", \"1CEM\", \"1WWI\", \"3P7K\", \"1WKX\", \"3KB5\", \"6TYY\", \"6ZM8\", \"3ID4\", \"2NSC\", \"1QZM\", \"1VGJ\", \"6S97\", \"3SO8\", \"1B7I\", \"4NFB\", \"3HVM\", \"3O5G\", \"1KS9\", \"5YDN\", \"2QHT\", \"1BK2\", \"2QEV\", \"4CVD\", \"4J5Q\", \"5ORM\", \"3E4H\", \"1TJE\", \"1DS3\", \"2ORX\", \"2W9Q\", \"8HXS\", \"189L\", \"3PBH\", \"8DOE\", \"3RJP\", \"1ACF\", \"2OF3\", \"4IPC\", \"2LAO\", \"1F94\", \"1CMS\", \"3VOR\", \"4ZM7\", \"6KND\", \"2P52\", \"5Y8E\", \"1XGD\", \"2HE7\", \"1R8N\", \"1GGV\", \"1K0F\", \"3D4M\", \"1GVL\", \"5NZB\", \"4OZX\", \"6DR3\", \"1WGB\", \"2PM1\", \"5LOZ\", \"3HBH\", \"4XP8\", \"3ILS\", \"2CW4\", \"1X3O\", \"8A8S\", \"4NF7\", \"2IE8\", \"1NG6\", \"6WIN\", \"1ZEQ\", \"2VWR\", \"2JHY\", \"6L7Q\", \"1N81\", \"6ATW\", \"5J2V\", \"1LP8\", \"2YWZ\", \"7TNG\", \"8HQW\", \"2RH3\", \"2OJ4\"]'"
      ]
     },
     "execution_count": 13,
     "metadata": {},
     "output_type": "execute_result"
    }
   ],
   "source": [
    "single_chain_first_draft = [\"7XHZ\", \"1J7X\", \"3E7R\", \"2OJ4\", \"2VWR\", \"8HQW\", \"1CEM\", \"6WIN\", \"7TNG\", \"5UVR\", \"2IE8\", \"1DIX\", \"1AKZ\", \"3H8N\", \"5J2V\", \"2RH3\", \"7DMF\", \"6ATW\", \"1ZEQ\", \"2JHY\", \"1LP8\", \"6L7Q\", \"1NG6\", \"1N81\", \"2YWZ\", \"4NF7\", \"2PM1\", \"1DAB\", \"1EYH\", \"1X1H\", \"3E9U\", \"1YPA\", \"1U9A\", \"7XCD\", \"5EUN\", \"1GH2\", \"5ZHG\", \"3CBH\", \"1FLH\", \"1TIB\", \"2O6Q\", \"1XDW\", \"2YWO\", \"2CG7\", \"5Z7Q\", \"3F7M\", \"1QCX\", \"1T2I\", \"6UFW\", \"1VFF\", \"3TOW\", \"6TG6\", \"4EVM\", \"2CW4\", \"1AKO\", \"1RKM\", \"2W9Q\", \"1LPJ\", \"4JZC\", \"6JOY\", \"1PDB\", \"5TUN\", \"2OF3\", \"1H3Q\", \"1DUS\", \"1PVX\", \"1QZM\", \"1GYD\", \"6HB9\", \"8ERE\", \"1GD6\", \"4L1H\", \"1O8I\", \"6SHR\", \"1IDK\", \"1CK3\", \"3QPD\", \"7VIJ\", \"1TZQ\", \"3TIP\", \"2X9Z\", \"1WWB\", \"3P7K\", \"3M70\", \"1EQV\", \"5BTH\", \"3RD2\", \"1LQ0\", \"2HC8\", \"1TVQ\", \"4MCK\", \"3CTK\", \"3HAK\", \"4JJO\", \"1I5P\", \"1MZL\", \"5EWT\", \"2SIL\", \"1FAZ\", \"8SNQ\", \"4GN2\", \"1AD6\", \"1AM5\", \"5ZFH\", \"5LOZ\", \"1BK2\", \"1BD8\", \"1T00\", \"2ZEQ\", \"1ICX\", \"6MRR\", \"1ENH\", \"1GGV\", \"1P3C\", \"6K98\", \"5YWZ\", \"1NOA\", \"2WBC\", \"1ZLM\", \"2PKO\", \"6FMB\", \"1SNB\", \"5XI8\", \"1MZA\", \"2BAA\", \"1C25\", \"4RZ9\", \"1P1L\", \"1CWY\", \"4QBE\", \"1A58\", \"5IHW\", \"2VQ4\", \"1XT0\", \"1GLN\", \"4XIO\", \"6QE3\", \"3KJZ\", \"1MD6\", \"5YPV\", \"1B7I\", \"2GGO\", \"8JN0\", \"4RNT\", \"7KUW\", \"3VPY\", \"1OOI\", \"3CSR\", \"4B50\", \"3HVM\", \"7DU0\", \"2R0S\", \"4J5Q\", \"2BK8\", \"3T5B\", \"6E7E\", \"2ERF\", \"3O04\", \"2P30\", \"2NLS\", \"5EHA\", \"2EYI\", \"3DPA\", \"1AAJ\", \"2E0Q\", \"1IO2\", \"1P6P\", \"6Q3V\", \"5Y33\", \"3MXX\", \"1JWO\", \"8G22\", \"4L5Q\", \"8BOJ\", \"3VC0\", \"1HOE\", \"2QZQ\", \"3N4U\", \"6JCC\", \"5ILS\", \"8GQQ\", \"5YIU\", \"4JP6\", \"2AF0\", \"1D2K\", \"1Q2Y\", \"1QTP\", \"3RDJ\", \"1MN3\", \"1IFG\", \"1SKF\", \"4X8H\", \"8HXS\", \"1MB8\", \"4ACJ\", \"1DSL\", \"2SFA\", \"8I2D\", \"6EXX\", \"1EM7\", \"1C2A\", \"4CFI\", \"4PA1\", \"3FH2\", \"3N0K\", \"1DS3\", \"1ALB\", \"7JT9\", \"2B8I\", \"6VT3\", \"189L\", \"5A7L\", \"6JBP\", \"6EZW\", \"1GHR\", \"2DYI\", \"3BN6\", \"6ELM\", \"4JCN\", \"5EIQ\", \"8JU8\", \"4OZK\", \"1WGB\", \"1KXF\", \"1TJE\", \"1FTS\", \"5AOD\", \"4PS6\", \"1LMN\", \"1CZT\", \"1GLO\", \"5HFD\", \"1NTN\", \"1BQC\", \"4IPC\", \"3LY3\", \"3LD1\", \"1FNF\", \"1G9O\", \"1G8A\", \"1C44\", \"1GVL\", \"1K40\", \"3WP5\", \"3ID4\", \"1BOL\", \"4PLQ\", \"1X3O\", \"2FCB\", \"1CM2\", \"3O5G\", \"5F70\", \"2G5X\", \"2FPH\", \"4LFQ\", \"2PTH\", \"2RKQ\", \"2OKT\", \"1FHL\", \"3WY8\", \"2EHG\", \"4TTL\", \"3HBH\", \"1ARL\", \"3LFO\", \"3M66\", \"1MIX\", \"2I6I\", \"1C4W\", \"7SNC\", \"4NFB\", \"1VGJ\", \"1GOA\", \"6SYG\", \"2H2Z\", \"3PG4\", \"2OZF\", \"2HE7\", \"3SO8\", \"3IV4\", \"3G4P\", \"4RXV\", \"1WS6\", \"1TGO\", \"3V1A\", \"4N6T\", \"4ETX\", \"4ZP9\", \"1AMM\", \"4PMH\", \"1XWC\", \"1QAU\", \"1ZHV\", \"1MH7\", \"3DJ9\", \"6LG3\", \"6APK\", \"5D6B\", \"6DGA\", \"1D2P\", \"1CRZ\", \"1CZ1\", \"1LA1\", \"1SBX\", \"1GYV\", \"5GY3\", \"3JZZ\", \"4DNU\", \"6KND\", \"2ICT\", \"2C83\", \"3ETP\", \"7TGP\", \"6FM8\", \"1FUS\", \"6HEQ\", \"5H4E\", \"2FC3\", \"153L\", \"1DJA\", \"3APP\", \"8EHU\", \"1EOD\", \"1H09\", \"1H6T\", \"4WZ0\", \"1Q2U\", \"2V6C\", \"1BTI\", \"1YU5\", \"4P5U\", \"3MZZ\", \"5DJ7\", \"1KOE\", \"1AGI\", \"3A4C\", \"3JZ9\", \"1XEU\", \"1CDJ\", \"1IV8\", \"2ESK\", \"1KIV\", \"1F6W\", \"3ND2\", \"1IJB\", \"5EFX\", \"5F6A\", \"7Y7N\", \"1WWI\", \"1EHD\", \"1MJC\", \"1DVO\", \"7PC1\", \"3EZM\", \"1BMG\", \"3TUA\", \"1PEF\", \"3A7L\", \"1CQY\", \"4A02\", \"2BFI\", \"3S0A\", \"4IZE\", \"6CVA\", \"2OV1\", \"8BY4\", \"1CUE\", \"1AYD\", \"6DR3\", \"5OQZ\", \"1IS1\", \"5H28\", \"2YGS\", \"8HWO\", \"1KTE\", \"1JMW\", \"6ZM8\", \"4DOM\", \"8A8S\", \"1CSP\", \"1UKF\", \"3PM2\", \"1TEN\", \"2RA1\", \"1EQ6\", \"5VTL\", \"1CS8\", \"7W3W\", \"6JV8\", \"1YW5\", \"5H3X\", \"1MWP\", \"4BPF\", \"1YZF\", \"1F00\", \"8GOK\", \"2O6R\", \"6F53\", \"1MF7\", \"2PET\", \"6IY4\", \"4CVD\", \"5XCY\", \"1Y0M\", \"4P5P\", \"3LSD\", \"1EDE\", \"4O7Q\", \"1EDQ\", \"1MHN\", \"1YP5\", \"6S97\", \"2FBO\", \"1RHD\", \"1BM8\", \"3KJE\", \"7DMS\", \"3PBH\", \"5ZO6\", \"1BUE\", \"3K1D\", \"2CYG\", \"8JED\", \"6LFB\", \"1S29\", \"2FRG\", \"1DLC\", \"1WKX\", \"2C6U\", \"1GQZ\", \"2AWG\", \"1PBV\", \"3CAF\", \"2AHN\", \"1QTF\", \"1UH7\", \"4DJ5\", \"1G62\", \"3D4M\", \"1MG6\", \"6ATM\", \"3RJP\", \"1BSQ\", \"1CEW\", \"1FNA\", \"2CC1\", \"6ATN\", \"2ERA\", \"1PXU\", \"5M4S\", \"2AZP\", \"5YV7\", \"5ECA\", \"1F1S\", \"5GUJ\", \"1P4X\", \"4MJA\", \"1EIC\", \"4QAJ\", \"3FS5\", \"4E2U\", \"7ENM\", \"1XIX\", \"2FJZ\", \"5H0Q\", \"1LMI\", \"2F82\", \"4BFH\", \"1I2T\", \"6E6N\", \"3KT9\", \"4Z99\", \"1RC9\", \"3NJW\", \"2AH5\", \"1LPL\", \"1CRN\", \"2PPN\", \"6NZS\", \"1FAS\", \"1PCL\", \"1SLL\", \"3VOR\", \"5NJO\", \"1AHO\", \"3VFI\", \"7LIQ\", \"1OLR\", \"4LSW\", \"6KD0\", \"6JL7\", \"1IAD\", \"1THV\", \"2OFS\", \"1RTC\", \"2W0I\", \"4RSX\", \"2CWY\", \"5NZB\", \"5XEF\", \"1KS5\", \"3IPZ\", \"2ORX\", \"5E10\", \"1FBN\", \"1XGD\", \"6SWI\", \"8ILZ\", \"2Q9V\", \"1R8N\", \"7XPW\", \"1XND\", \"2W0G\", \"1OA4\", \"1UG4\", \"4OZX\", \"1Z15\", \"1T45\", \"5ORM\", \"3DJN\", \"1HKA\", \"2ICC\", \"3R6D\", \"1UOK\", \"4APE\", \"8JJ7\", \"1W8V\", \"4YTE\", \"1PRZ\", \"2VIM\", \"1Y6I\", \"1QQY\", \"3M6C\", \"4O8S\", \"8BTU\", \"2IN0\", \"2JA4\", \"6AFM\", \"4KK4\", \"7CHR\", \"1L8F\", \"4O6G\", \"1CMS\", \"3ILS\", \"3UCI\", \"5Y8E\", \"4TX7\", \"1AA2\", \"5AVH\", \"2V14\", \"1AUN\", \"1LLN\", \"1A3H\", \"8A55\", \"3KVD\", \"2NSC\", \"1J2A\", \"6WEY\", \"2X8X\", \"3CH7\", \"1WU3\", \"2COQ\", \"4Y2K\", \"3UFC\", \"1MUF\", \"6IYE\", \"2H0M\", \"4QTZ\", \"7WVR\", \"2P52\", \"1BHE\", \"1JLN\", \"7DKR\", \"5E5B\", \"1TQG\", \"2PCY\", \"5YM7\", \"1NHL\", \"7E56\", \"1SRV\", \"2PNE\", \"1ND7\", \"6MOW\", \"1KEX\", \"3FHF\", \"3T7F\", \"6GV5\", \"6KT1\", \"1BBC\", \"2HLQ\", \"1IOB\", \"1WY3\", \"2BFH\", \"6GGP\", \"1ACF\", \"1HPT\", \"5MGV\", \"1K0F\", \"1MHX\", \"1O73\", \"4XDX\", \"1F94\", \"2A6Z\", \"3E4H\", \"3ACP\", \"7FCC\", \"3ONJ\", \"5DZ9\", \"2I6V\", \"6YL6\", \"5ZA4\", \"4POY\", \"4XP8\", \"1DVN\", \"1BK7\", \"1QMT\", \"2LAO\", \"4MHP\", \"6BIM\", \"3GBL\", \"1EDG\", \"1L2P\", \"1EW4\", \"6TYY\", \"1DUA\", \"2IIY\", \"1GNV\", \"4MOA\", \"3CO1\", \"2AC4\", \"3SH4\", \"1JEJ\", \"2J9V\", \"2ABL\", \"2QT4\", \"1DC9\", \"1ZLB\", \"3AAP\", \"1UOY\", \"1TUX\", \"1B1J\", \"1X0M\", \"6WES\", \"1OPS\", \"4WJS\", \"1A8Q\", \"6L34\", \"5YNS\", \"5ORI\", \"2GPR\", \"5YDN\", \"5HU4\", \"6OD2\", \"6E6O\", \"1U09\", \"2EVB\", \"3F6P\", \"8BBM\", \"2QHT\", \"6AZ5\", \"5Z67\", \"133L\", \"1AHC\", \"3FK5\", \"7VTY\", \"1BZ4\", \"3OZH\", \"3O7T\", \"1OGW\", \"1OJQ\", \"3MX7\", \"5E0Z\", \"2CKX\", \"5HD9\", \"7ZQ0\", \"1ACX\", \"2QEV\", \"7VTK\", \"3KB5\", \"4U3H\", \"1KS9\", \"132L\", \"6GPM\", \"1WP5\", \"2QHE\", \"1VCC\", \"6XP8\", \"1C3F\", \"1KQX\", \"1I60\", \"1SN1\", \"2PVT\", \"6E4N\", \"1DST\", \"6F4M\", \"7Y54\", \"2PLC\", \"1JI6\", \"5C3T\", \"8HT3\", \"4NNK\", \"1J8S\", \"8DOE\", \"1B31\", \"1C5H\", \"2HVM\", \"2EXO\", \"1N7N\", \"3SEB\", \"3LIG\", \"1JW4\", \"3ZSL\", \"4ZM7\"]\n",
    "single_chain_pdbs_plus_first = single_chain_pdbs[:200] + list(set(single_chain_first_draft[:25]) - set(single_chain_pdbs[:200]))\n",
    "single_chain_pdbs_plus_first = [i for i in single_chain_pdbs_plus_first if not i in rdkit_failures]\n",
    "# len(set(single_chain_pdbs[:200]) - set(rdkit_failures))\n",
    "# len(single_chain_first_draft)\n",
    "print(len(single_chain_pdbs_plus_first))\n",
    "json.dumps(single_chain_pdbs_plus_first)\n",
    "# There's still one failure in this list, the protein 1DS3 contains a non-standard residue"
   ]
  },
  {
   "cell_type": "code",
   "execution_count": 14,
   "metadata": {},
   "outputs": [],
   "source": [
    "html_content = \"<html><body>\"\n",
    "for pdbid in single_chain_pdbs_plus_first[:212]:\n",
    "    html_content += f'<a href=\"https://www.rcsb.org/structure/{pdbid}\">'\n",
    "    html_content += f'<img src=\"pdb_images/{pdbid.lower()}_assembly-1.jpeg\" width=250 height=250>'\n",
    "    html_content += f'</a>'\n",
    "html_content += \"</body></html\"\n",
    "\n",
    "with open(\"thumbnails_212.html\", \"wt\", encoding=\"utf-8\") as f:\n",
    "    f.write(html_content)"
   ]
  },
  {
   "cell_type": "code",
   "execution_count": 37,
   "metadata": {},
   "outputs": [
    {
     "name": "stdout",
     "output_type": "stream",
     "text": [
      "238 665\n"
     ]
    }
   ],
   "source": [
    "import mdtraj\n",
    "has_disulfied_bond_list = []\n",
    "for pdbid in single_chain_pdbs:\n",
    "    traj = mdtraj.load(f\"pdbs/{pdbid}.pdb.gz\")\n",
    "    has_disulfide = False\n",
    "    for i in traj.top.bonds:\n",
    "        if i[0].element.symbol == 'S' and i[1].element.symbol == 'S':\n",
    "            has_disulfide = True\n",
    "            break\n",
    "    if has_disulfide:\n",
    "        has_disulfied_bond_list.append(pdbid)\n",
    "print(len(has_disulfied_bond_list), len(single_chain_pdbs))"
   ]
  },
  {
   "cell_type": "code",
   "execution_count": 65,
   "metadata": {},
   "outputs": [
    {
     "data": {
      "text/plain": [
       "(136, 76)"
      ]
     },
     "execution_count": 65,
     "metadata": {},
     "output_type": "execute_result"
    }
   ],
   "source": [
    "# count w/o S-S bonds, # with S-S bonds\n",
    "len(set(single_chain_pdbs_plus_first) - set(has_disulfied_bond_list)), len(set(single_chain_pdbs_plus_first).intersection(set(has_disulfied_bond_list)))"
   ]
  },
  {
   "cell_type": "code",
   "execution_count": 57,
   "metadata": {},
   "outputs": [
    {
     "name": "stdout",
     "output_type": "stream",
     "text": [
      "200\n"
     ]
    },
    {
     "data": {
      "text/plain": [
       "'[\"8DOE\", \"1YP5\", \"8GOK\", \"1K0F\", \"3RJP\", \"2QHT\", \"1OPS\", \"2BFH\", \"4OZX\", \"5ZHG\", \"1IO2\", \"1EYH\", \"1VGJ\", \"189L\", \"6DR3\", \"2RH3\", \"4N6T\", \"2IE8\", \"2H0M\", \"3KVD\", \"3ID4\", \"3SO8\", \"6TYY\", \"1WGB\", \"1EQ6\", \"2ICT\", \"1A3H\", \"2VQ4\", \"1OJQ\", \"1DC9\", \"1QAU\", \"4RZ9\", \"1LMI\", \"1XEU\", \"4CVD\", \"2VWR\", \"1N81\", \"3LSD\", \"1JW4\", \"4NF7\", \"1K40\", \"6AFM\", \"6S97\", \"3P7K\", \"1DJA\", \"3RDJ\", \"1PEF\", \"7DMF\", \"3ZSL\", \"6GPM\", \"1J7X\", \"6Q3V\", \"6WIN\", \"1WWI\", \"2H2Z\", \"2W9Q\", \"3FH2\", \"6KND\", \"1ACF\", \"1C4W\", \"2CW4\", \"1XGD\", \"4O6G\", \"2AWG\", \"1EQV\", \"2JHY\", \"1FNA\", \"5HD9\", \"1IS1\", \"5UVR\", \"6L7Q\", \"1C25\", \"1LP8\", \"7LIQ\", \"3CH7\", \"5YDN\", \"4QBE\", \"4IPC\", \"2OJ4\", \"5BTH\", \"1OGW\", \"1FNF\", \"1P1L\", \"7TGP\", \"4A02\", \"5Y8E\", \"1WP5\", \"3MX7\", \"6QE3\", \"2OF3\", \"6GGP\", \"5ORM\", \"7ZQ0\", \"6WEY\", \"5J2V\", \"3KB5\", \"1GGV\", \"1ZEQ\", \"4J5Q\", \"3G4P\", \"1AKZ\", \"1Y6I\", \"1XT0\", \"1CM2\", \"3MZZ\", \"1ALB\", \"1W8V\", \"2NSC\", \"1BK2\", \"1MJC\", \"8HQW\", \"8A8S\", \"1NG6\", \"3O5G\", \"1UKF\", \"1GYV\", \"5LOZ\", \"1AAJ\", \"1BZ4\", \"4NFB\", \"2OV1\", \"5HU4\", \"1QZM\", \"3ILS\", \"1X3O\", \"1QTP\", \"3FHF\", \"1TQG\", \"3KJE\", \"2HE7\", \"3HVM\", \"1TJE\", \"1CEM\", \"1B7I\", \"1YU5\", \"6F53\", \"1WY3\", \"1U9A\", \"4NNK\", \"1GHR\", \"1XIX\", \"3PG4\", \"1XDW\", \"5Y33\", \"7PC1\", \"1JMW\", \"8I2D\", \"5IHW\", \"2PTH\", \"7DMS\", \"4JCN\", \"1DVN\", \"1YZF\", \"3LFO\", \"5YM7\", \"4U3H\", \"1I2T\", \"4KK4\", \"1EDE\", \"8ERE\", \"4Y2K\", \"4ETX\", \"4LSW\", \"3DJN\", \"6JCC\", \"1KQX\", \"1AYD\", \"2EVB\", \"1YW5\", \"1LPJ\", \"6CVA\", \"5H4E\", \"2V14\", \"6LG3\", \"3M70\", \"2FPH\", \"2EYI\", \"5H0Q\", \"4BPF\", \"8GQQ\", \"6OD2\", \"8SNQ\", \"4PA1\", \"4QAJ\", \"5XEF\", \"7DKR\", \"1AD6\", \"6SYG\", \"7XCD\", \"6MRR\", \"1ZLM\", \"3ONJ\", \"6APK\", \"8G22\", \"1CSP\", \"2PCY\", \"8JED\", \"1AMM\", \"5GY3\", \"3R6D\"]'"
      ]
     },
     "execution_count": 57,
     "metadata": {},
     "output_type": "execute_result"
    }
   ],
   "source": [
    "# Remove the disulfied bonds and rdkit_failures\n",
    "single_chain_cleaned1 = set(single_chain_pdbs)-set(has_disulfied_bond_list)-set(rdkit_failures)\n",
    "# Remove the newly found bad ones from the first draft\n",
    "single_chain_pdbs_second_draft = set(single_chain_pdbs_plus_first).intersection(single_chain_cleaned1)\n",
    "# Pad out the 2nd draft\n",
    "single_chain_pdbs_second_draft = list(single_chain_pdbs_second_draft) + list(single_chain_cleaned1-set(single_chain_pdbs_plus_first))[:200-len(single_chain_pdbs_second_draft)]\n",
    "print(len(single_chain_pdbs_second_draft))\n",
    "json.dumps(single_chain_pdbs_second_draft)"
   ]
  },
  {
   "cell_type": "code",
   "execution_count": null,
   "metadata": {},
   "outputs": [],
   "source": []
  }
 ],
 "metadata": {
  "kernelspec": {
   "display_name": "mla_openmm",
   "language": "python",
   "name": "mla_openmm"
  },
  "language_info": {
   "codemirror_mode": {
    "name": "ipython",
    "version": 3
   },
   "file_extension": ".py",
   "mimetype": "text/x-python",
   "name": "python",
   "nbconvert_exporter": "python",
   "pygments_lexer": "ipython3",
   "version": "3.11.6"
  }
 },
 "nbformat": 4,
 "nbformat_minor": 2
}

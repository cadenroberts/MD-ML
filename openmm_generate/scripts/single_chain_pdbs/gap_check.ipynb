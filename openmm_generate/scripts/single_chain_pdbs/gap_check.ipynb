{
 "cells": [
  {
   "cell_type": "code",
   "execution_count": 2,
   "metadata": {},
   "outputs": [],
   "source": [
    "import mdtraj\n",
    "import numpy as np"
   ]
  },
  {
   "cell_type": "code",
   "execution_count": 3,
   "metadata": {},
   "outputs": [],
   "source": [
    "std_aa = ['A', 'R', 'N', 'D', 'B', 'C', 'E', 'Q', 'Z', 'G', 'H', 'I', 'L', 'K', 'M', 'F', 'P', 'S', 'T', 'W', 'Y', 'V']"
   ]
  },
  {
   "cell_type": "code",
   "execution_count": 5,
   "metadata": {},
   "outputs": [
    {
     "name": "stdout",
     "output_type": "stream",
     "text": [
      "pdbs/3CBH.pdb.gz\n",
      "Missing: 0 SER83:C=None GLY84:N=None\n",
      "pdbs/1AM5.pdb.gz\n",
      "Gap: 0 CYS206 GLU208 len=0.34402793645858765\n",
      "Gap: 0 ASN240 GLN242 len=0.38485169410705566\n",
      "pdbs/3DPA.pdb.gz\n",
      "Missing: 0 ALA1:C=None VAL2:N=None\n",
      "pdbs/1PCL.pdb.gz\n",
      "Missing: 0 ALA1:C=None VAL2:N=None\n",
      "pdbs/5MGV.pdb.gz\n",
      "Gap: 0 VAL406 GLN407 len=0.20190677046775818\n",
      "Gap: 0 GLN407 LEU408 len=0.2642391324043274\n",
      "0.0070126227208976155\n",
      "['pdbs/3CBH.pdb.gz', 'pdbs/1AM5.pdb.gz', 'pdbs/3DPA.pdb.gz', 'pdbs/1PCL.pdb.gz', 'pdbs/5MGV.pdb.gz']\n"
     ]
    }
   ],
   "source": [
    "import glob\n",
    "import networkx\n",
    "\n",
    "# This version doesn't work yet, the topology actually contains an imaginary bond between the gap residues\n",
    "# Mabye check for a length of <= 0.2 nm ?\n",
    "\n",
    "totalGap = 0\n",
    "total = 0\n",
    "pdbs_with_errors = []\n",
    "# The current filtered list:\n",
    "single_chain_pdbs = [\"7XHZ\", \"1J7X\", \"3E7R\", \"2OJ4\", \"2VWR\", \"8HQW\", \"1CEM\", \"6WIN\", \"7TNG\", \"5UVR\", \"2IE8\", \"1DIX\", \"1AKZ\", \"3H8N\", \"5J2V\", \"2RH3\", \"7DMF\", \"6ATW\", \"1ZEQ\", \"2JHY\", \"1LP8\", \"6L7Q\", \"1NG6\", \"1N81\", \"2YWZ\", \"4NF7\", \"2PM1\", \"1DAB\", \"1EYH\", \"1X1H\", \"3E9U\", \"1YPA\", \"1U9A\", \"7XCD\", \"5EUN\", \"1GH2\", \"5ZHG\", \"3CBH\", \"1FLH\", \"1TIB\", \"2O6Q\", \"1XDW\", \"2YWO\", \"2CG7\", \"5Z7Q\", \"3F7M\", \"1QCX\", \"1T2I\", \"6UFW\", \"1VFF\", \"3TOW\", \"6TG6\", \"4EVM\", \"2CW4\", \"1AKO\", \"1RKM\", \"2W9Q\", \"1LPJ\", \"4JZC\", \"6JOY\", \"1PDB\", \"5TUN\", \"2OF3\", \"1H3Q\", \"1DUS\", \"1PVX\", \"1QZM\", \"1GYD\", \"6HB9\", \"8ERE\", \"1GD6\", \"4L1H\", \"1O8I\", \"6SHR\", \"1IDK\", \"1CK3\", \"3QPD\", \"7VIJ\", \"1TZQ\", \"3TIP\", \"2X9Z\", \"1WWB\", \"3P7K\", \"3M70\", \"1EQV\", \"5BTH\", \"3RD2\", \"1LQ0\", \"2HC8\", \"1TVQ\", \"4MCK\", \"3CTK\", \"3HAK\", \"4JJO\", \"1I5P\", \"1MZL\", \"5EWT\", \"2SIL\", \"1FAZ\", \"8SNQ\", \"4GN2\", \"1AD6\", \"1AM5\", \"5ZFH\", \"5LOZ\", \"1BK2\", \"1BD8\", \"1T00\", \"2ZEQ\", \"1ICX\", \"6MRR\", \"1ENH\", \"1GGV\", \"1P3C\", \"6K98\", \"5YWZ\", \"1NOA\", \"2WBC\", \"1ZLM\", \"2PKO\", \"6FMB\", \"1SNB\", \"5XI8\", \"1MZA\", \"2BAA\", \"1C25\", \"4RZ9\", \"1P1L\", \"1CWY\", \"4QBE\", \"1A58\", \"5IHW\", \"2VQ4\", \"1XT0\", \"1GLN\", \"4XIO\", \"6QE3\", \"3KJZ\", \"1MD6\", \"5YPV\", \"1B7I\", \"2GGO\", \"8JN0\", \"4RNT\", \"7KUW\", \"3VPY\", \"1OOI\", \"3CSR\", \"4B50\", \"3HVM\", \"7DU0\", \"2R0S\", \"4J5Q\", \"2BK8\", \"3T5B\", \"6E7E\", \"2ERF\", \"3O04\", \"2P30\", \"2NLS\", \"5EHA\", \"2EYI\", \"3DPA\", \"1AAJ\", \"2E0Q\", \"1IO2\", \"1P6P\", \"6Q3V\", \"5Y33\", \"3MXX\", \"1JWO\", \"8G22\", \"4L5Q\", \"8BOJ\", \"3VC0\", \"1HOE\", \"2QZQ\", \"3N4U\", \"6JCC\", \"5ILS\", \"8GQQ\", \"5YIU\", \"4JP6\", \"2AF0\", \"1D2K\", \"1Q2Y\", \"1QTP\", \"3RDJ\", \"1MN3\", \"1IFG\", \"1SKF\", \"4X8H\", \"8HXS\", \"1MB8\", \"4ACJ\", \"1DSL\", \"2SFA\", \"8I2D\", \"6EXX\", \"1EM7\", \"1C2A\", \"4CFI\", \"4PA1\", \"3FH2\", \"3N0K\", \"1DS3\", \"1ALB\", \"7JT9\", \"2B8I\", \"6VT3\", \"189L\", \"5A7L\", \"6JBP\", \"6EZW\", \"1GHR\", \"2DYI\", \"3BN6\", \"6ELM\", \"4JCN\", \"5EIQ\", \"8JU8\", \"4OZK\", \"1WGB\", \"1KXF\", \"1TJE\", \"1FTS\", \"5AOD\", \"4PS6\", \"1LMN\", \"1CZT\", \"1GLO\", \"5HFD\", \"1NTN\", \"1BQC\", \"4IPC\", \"3LY3\", \"3LD1\", \"1FNF\", \"1G9O\", \"1G8A\", \"1C44\", \"1GVL\", \"1K40\", \"3WP5\", \"3ID4\", \"1BOL\", \"4PLQ\", \"1X3O\", \"2FCB\", \"1CM2\", \"3O5G\", \"5F70\", \"2G5X\", \"2FPH\", \"4LFQ\", \"2PTH\", \"2RKQ\", \"2OKT\", \"1FHL\", \"3WY8\", \"2EHG\", \"4TTL\", \"3HBH\", \"1ARL\", \"3LFO\", \"3M66\", \"1MIX\", \"2I6I\", \"1C4W\", \"7SNC\", \"4NFB\", \"1VGJ\", \"1GOA\", \"6SYG\", \"2H2Z\", \"3PG4\", \"2OZF\", \"2HE7\", \"3SO8\", \"3IV4\", \"3G4P\", \"4RXV\", \"1WS6\", \"1TGO\", \"3V1A\", \"4N6T\", \"4ETX\", \"4ZP9\", \"1AMM\", \"4PMH\", \"1XWC\", \"1QAU\", \"1ZHV\", \"1MH7\", \"3DJ9\", \"6LG3\", \"6APK\", \"5D6B\", \"6DGA\", \"1D2P\", \"1CRZ\", \"1CZ1\", \"1LA1\", \"1SBX\", \"1GYV\", \"5GY3\", \"3JZZ\", \"4DNU\", \"6KND\", \"2ICT\", \"2C83\", \"3ETP\", \"7TGP\", \"6FM8\", \"1FUS\", \"6HEQ\", \"5H4E\", \"2FC3\", \"153L\", \"1DJA\", \"3APP\", \"8EHU\", \"1EOD\", \"1H09\", \"1H6T\", \"4WZ0\", \"1Q2U\", \"2V6C\", \"1BTI\", \"1YU5\", \"4P5U\", \"3MZZ\", \"5DJ7\", \"1KOE\", \"1AGI\", \"3A4C\", \"3JZ9\", \"1XEU\", \"1CDJ\", \"1IV8\", \"2ESK\", \"1KIV\", \"1F6W\", \"3ND2\", \"1IJB\", \"5EFX\", \"5F6A\", \"7Y7N\", \"1WWI\", \"1EHD\", \"1MJC\", \"1DVO\", \"7PC1\", \"3EZM\", \"1BMG\", \"3TUA\", \"1PEF\", \"3A7L\", \"1CQY\", \"4A02\", \"2BFI\", \"3S0A\", \"4IZE\", \"6CVA\", \"2OV1\", \"8BY4\", \"1CUE\", \"1AYD\", \"6DR3\", \"5OQZ\", \"1IS1\", \"5H28\", \"2YGS\", \"8HWO\", \"1KTE\", \"1JMW\", \"6ZM8\", \"4DOM\", \"8A8S\", \"1CSP\", \"1UKF\", \"3PM2\", \"1TEN\", \"2RA1\", \"1EQ6\", \"5VTL\", \"1CS8\", \"7W3W\", \"6JV8\", \"1YW5\", \"5H3X\", \"1MWP\", \"4BPF\", \"1YZF\", \"1F00\", \"8GOK\", \"2O6R\", \"6F53\", \"1MF7\", \"2PET\", \"6IY4\", \"4CVD\", \"5XCY\", \"1Y0M\", \"4P5P\", \"3LSD\", \"1EDE\", \"4O7Q\", \"1EDQ\", \"1MHN\", \"1YP5\", \"6S97\", \"2FBO\", \"1RHD\", \"1BM8\", \"3KJE\", \"7DMS\", \"3PBH\", \"5ZO6\", \"1BUE\", \"3K1D\", \"2CYG\", \"8JED\", \"6LFB\", \"1S29\", \"2FRG\", \"1DLC\", \"1WKX\", \"2C6U\", \"1GQZ\", \"2AWG\", \"1PBV\", \"3CAF\", \"2AHN\", \"1QTF\", \"1UH7\", \"4DJ5\", \"1G62\", \"3D4M\", \"1MG6\", \"6ATM\", \"3RJP\", \"1BSQ\", \"1CEW\", \"1FNA\", \"2CC1\", \"6ATN\", \"2ERA\", \"1PXU\", \"5M4S\", \"2AZP\", \"5YV7\", \"5ECA\", \"1F1S\", \"5GUJ\", \"1P4X\", \"4MJA\", \"1EIC\", \"4QAJ\", \"3FS5\", \"4E2U\", \"7ENM\", \"1XIX\", \"2FJZ\", \"5H0Q\", \"1LMI\", \"2F82\", \"4BFH\", \"1I2T\", \"6E6N\", \"3KT9\", \"4Z99\", \"1RC9\", \"3NJW\", \"2AH5\", \"1LPL\", \"1CRN\", \"2PPN\", \"6NZS\", \"1FAS\", \"1PCL\", \"1SLL\", \"3VOR\", \"5NJO\", \"1AHO\", \"3VFI\", \"7LIQ\", \"1OLR\", \"4LSW\", \"6KD0\", \"6JL7\", \"1IAD\", \"1THV\", \"2OFS\", \"1RTC\", \"2W0I\", \"4RSX\", \"2CWY\", \"5NZB\", \"5XEF\", \"1KS5\", \"3IPZ\", \"2ORX\", \"5E10\", \"1FBN\", \"1XGD\", \"6SWI\", \"8ILZ\", \"2Q9V\", \"1R8N\", \"7XPW\", \"1XND\", \"2W0G\", \"1OA4\", \"1UG4\", \"4OZX\", \"1Z15\", \"1T45\", \"5ORM\", \"3DJN\", \"1HKA\", \"2ICC\", \"3R6D\", \"1UOK\", \"4APE\", \"8JJ7\", \"1W8V\", \"4YTE\", \"1PRZ\", \"2VIM\", \"1Y6I\", \"1QQY\", \"3M6C\", \"4O8S\", \"8BTU\", \"2IN0\", \"2JA4\", \"6AFM\", \"4KK4\", \"7CHR\", \"1L8F\", \"4O6G\", \"1CMS\", \"3ILS\", \"3UCI\", \"5Y8E\", \"4TX7\", \"1AA2\", \"5AVH\", \"2V14\", \"1AUN\", \"1LLN\", \"1A3H\", \"8A55\", \"3KVD\", \"2NSC\", \"1J2A\", \"6WEY\", \"2X8X\", \"3CH7\", \"1WU3\", \"2COQ\", \"4Y2K\", \"3UFC\", \"1MUF\", \"6IYE\", \"2H0M\", \"4QTZ\", \"7WVR\", \"2P52\", \"1BHE\", \"1JLN\", \"7DKR\", \"5E5B\", \"1TQG\", \"2PCY\", \"5YM7\", \"1NHL\", \"7E56\", \"1SRV\", \"2PNE\", \"1ND7\", \"6MOW\", \"1KEX\", \"3FHF\", \"3T7F\", \"6GV5\", \"6KT1\", \"1BBC\", \"2HLQ\", \"1IOB\", \"1WY3\", \"2BFH\", \"6GGP\", \"1ACF\", \"1HPT\", \"5MGV\", \"1K0F\", \"1MHX\", \"1O73\", \"4XDX\", \"1F94\", \"2A6Z\", \"3E4H\", \"3ACP\", \"7FCC\", \"3ONJ\", \"5DZ9\", \"2I6V\", \"6YL6\", \"5ZA4\", \"4POY\", \"4XP8\", \"1DVN\", \"1BK7\", \"1QMT\", \"2LAO\", \"4MHP\", \"6BIM\", \"3GBL\", \"1EDG\", \"1L2P\", \"1EW4\", \"6TYY\", \"1DUA\", \"2IIY\", \"1GNV\", \"4MOA\", \"3CO1\", \"2AC4\", \"3SH4\", \"1JEJ\", \"2J9V\", \"2ABL\", \"2QT4\", \"1DC9\", \"1ZLB\", \"3AAP\", \"1UOY\", \"1TUX\", \"1B1J\", \"1X0M\", \"6WES\", \"1OPS\", \"4WJS\", \"1A8Q\", \"6L34\", \"5YNS\", \"5ORI\", \"2GPR\", \"5YDN\", \"5HU4\", \"6OD2\", \"6E6O\", \"1U09\", \"2EVB\", \"3F6P\", \"8BBM\", \"2QHT\", \"6AZ5\", \"5Z67\", \"133L\", \"1AHC\", \"3FK5\", \"7VTY\", \"1BZ4\", \"3OZH\", \"3O7T\", \"1OGW\", \"1OJQ\", \"3MX7\", \"5E0Z\", \"2CKX\", \"5HD9\", \"7ZQ0\", \"1ACX\", \"2QEV\", \"7VTK\", \"3KB5\", \"4U3H\", \"1KS9\", \"132L\", \"6GPM\", \"1WP5\", \"2QHE\", \"1VCC\", \"6XP8\", \"1C3F\", \"1KQX\", \"1I60\", \"1SN1\", \"2PVT\", \"6E4N\", \"1DST\", \"6F4M\", \"7Y54\", \"2PLC\", \"1JI6\", \"5C3T\", \"8HT3\", \"4NNK\", \"1J8S\", \"8DOE\", \"1B31\", \"1C5H\", \"2HVM\", \"2EXO\", \"1N7N\", \"3SEB\", \"3LIG\", \"1JW4\", \"3ZSL\", \"4ZM7\"]\n",
    "for f in [f\"pdbs/{i}.pdb.gz\" for i in single_chain_pdbs]:\n",
    "    try:\n",
    "        traj = mdtraj.load(f)\n",
    "    except Exception as e:\n",
    "        print(\"Failed to load\", f)\n",
    "        print(e)\n",
    "        continue\n",
    "    backbone = traj.atom_slice(traj.top.select(\"backbone\"))\n",
    "    gap = False\n",
    "    bonds = set([\"-\".join(map(str, sorted([b[0].index, b[1].index]))) for b in backbone.top.bonds])\n",
    "    for chain_idx, chain in enumerate(backbone.top.chains):\n",
    "        for i in range(chain.n_residues-1):\n",
    "            r0 = chain.residue(i)\n",
    "            r1 = chain.residue(i+1)\n",
    "            # r0.C -- r1.N\n",
    "            try:\n",
    "                r0_C_idx = None\n",
    "                r0_C_idx = r0.atom(\"C\").index\n",
    "            except:\n",
    "                pass\n",
    "            try:\n",
    "                r1_N_idx = None\n",
    "                r1_N_idx = r1.atom(\"N\").index\n",
    "            except:\n",
    "                pass\n",
    "            \n",
    "            if r0_C_idx is None or r1_N_idx is None:\n",
    "                if not gap:\n",
    "                    print(f)\n",
    "                    gap = True\n",
    "                print(f\"Missing: {chain_idx} {r0}:C={r0_C_idx} {r1}:N={r1_N_idx}\")\n",
    "                # Break because if there's one of these errors there's probably many\n",
    "                break\n",
    "\n",
    "            dipep_bond = \"-\".join(map(str, sorted([r0_C_idx, r1_N_idx])))\n",
    "            bond_length = np.linalg.norm(backbone.xyz[0][r0_C_idx] - backbone.xyz[0][r1_N_idx])\n",
    "            if not dipep_bond in bonds or bond_length > 0.2:\n",
    "                if not gap:\n",
    "                    print(f)\n",
    "                    gap = True\n",
    "                # The chain names get lost in the select call\n",
    "                # print(chain.chain_id, chain.residue(i).resSeq)\n",
    "                print(\"Gap:\", chain_idx, chain.residue(i), chain.residue(i+1), f\"len={bond_length}\")\n",
    "    total += 1\n",
    "    if gap:\n",
    "        totalGap += 1\n",
    "        pdbs_with_errors.append(f)\n",
    "    else:\n",
    "        pass\n",
    "        # print(\"ok\", f)\n",
    "    # print([a.name for a in backbone.top.atoms])\n",
    "    # print(len(*networkx.connected_components(backbone.top.to_bondgraph())))\n",
    "\n",
    "    # print(traj.atom_slice(traj.top.select(\"backbone\")))\n",
    "    # gap = False\n",
    "    # for chain in traj.top.chains:\n",
    "    #     for i in range(chain.n_residues-1):\n",
    "    #         r0 = chain.residue(i)\n",
    "    #         r1 = chain.residue(i+1)\n",
    "    #         if (r0.resSeq + 1 != r1.resSeq):\n",
    "    #             if (r0.code in std_aa and not r0.is_water and r1.code in std_aa and not r1.is_water):\n",
    "    #                 if not gap:\n",
    "    #                     print(f)\n",
    "    #                     gap = True\n",
    "    #                 print(chain.chain_id, chain.residue(i).resSeq)\n",
    "    # total += 1\n",
    "    # if gap:\n",
    "    #     totalGap += 1\n",
    "print(totalGap/total)\n",
    "print(pdbs_with_errors)"
   ]
  },
  {
   "cell_type": "code",
   "execution_count": null,
   "metadata": {},
   "outputs": [],
   "source": []
  }
 ],
 "metadata": {
  "kernelspec": {
   "display_name": "mla_openmm",
   "language": "python",
   "name": "mla_openmm"
  },
  "language_info": {
   "codemirror_mode": {
    "name": "ipython",
    "version": 3
   },
   "file_extension": ".py",
   "mimetype": "text/x-python",
   "name": "python",
   "nbconvert_exporter": "python",
   "pygments_lexer": "ipython3",
   "version": "3.11.6"
  }
 },
 "nbformat": 4,
 "nbformat_minor": 2
}

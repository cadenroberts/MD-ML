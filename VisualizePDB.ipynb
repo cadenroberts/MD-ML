{
 "cells": [
  {
   "cell_type": "code",
   "execution_count": 1,
   "id": "89ac8d00-cfa7-4f3f-8e60-3f6ef49544d5",
   "metadata": {},
   "outputs": [
    {
     "data": {
      "application/vnd.jupyter.widget-view+json": {
       "model_id": "ec42c44ca3b74d838e27fd968d3615b0",
       "version_major": 2,
       "version_minor": 0
      },
      "text/plain": []
     },
     "metadata": {},
     "output_type": "display_data"
    },
    {
     "name": "stderr",
     "output_type": "stream",
     "text": [
      "/global/u1/c/cawrober/micromamba_root/envs/openmm/lib/python3.12/site-packages/nglview/__init__.py:12: UserWarning: pkg_resources is deprecated as an API. See https://setuptools.pypa.io/en/latest/pkg_resources.html. The pkg_resources package is slated for removal as early as 2025-11-30. Refrain from using this package or pin to Setuptools<81.\n",
      "  import pkg_resources\n"
     ]
    },
    {
     "name": "stdout",
     "output_type": "stream",
     "text": [
      "Visualizing 1BNA...\n",
      "Loading: /pscratch/sd/c/cawrober/benchmark_test/1BNA/simulation/final_state.pdb\n",
      "1BNA: Visualizing DNA only\n"
     ]
    },
    {
     "data": {
      "application/vnd.jupyter.widget-view+json": {
       "model_id": "0bfdf9eb579d452fa768a7d542a4f68a",
       "version_major": 2,
       "version_minor": 0
      },
      "text/plain": [
       "NGLWidget()"
      ]
     },
     "metadata": {},
     "output_type": "display_data"
    },
    {
     "name": "stdout",
     "output_type": "stream",
     "text": [
      "Visualizing 1D92...\n",
      "Loading: /pscratch/sd/c/cawrober/benchmark_test/1D92/simulation/final_state.pdb\n",
      "1D92: Visualizing DNA only\n"
     ]
    },
    {
     "data": {
      "application/vnd.jupyter.widget-view+json": {
       "model_id": "842d3bc1bdc343deb6570449ea9db75a",
       "version_major": 2,
       "version_minor": 0
      },
      "text/plain": [
       "NGLWidget()"
      ]
     },
     "metadata": {},
     "output_type": "display_data"
    },
    {
     "name": "stdout",
     "output_type": "stream",
     "text": [
      "Visualizing 1FZX...\n",
      "Loading: /pscratch/sd/c/cawrober/benchmark_test/1FZX/simulation/final_state.pdb\n",
      "1FZX: Visualizing DNA only\n"
     ]
    },
    {
     "data": {
      "application/vnd.jupyter.widget-view+json": {
       "model_id": "0694305b3ef148db978f6118462389ad",
       "version_major": 2,
       "version_minor": 0
      },
      "text/plain": [
       "NGLWidget()"
      ]
     },
     "metadata": {},
     "output_type": "display_data"
    },
    {
     "name": "stdout",
     "output_type": "stream",
     "text": [
      "Visualizing 1IHF...\n",
      "Loading: /pscratch/sd/c/cawrober/benchmark_test/1IHF/simulation/final_state.pdb\n",
      "1IHF: Visualizing DNA only\n"
     ]
    },
    {
     "data": {
      "application/vnd.jupyter.widget-view+json": {
       "model_id": "23a5016f0d4247b9aa1d63ab6e013713",
       "version_major": 2,
       "version_minor": 0
      },
      "text/plain": [
       "NGLWidget()"
      ]
     },
     "metadata": {},
     "output_type": "display_data"
    },
    {
     "name": "stdout",
     "output_type": "stream",
     "text": [
      "Visualizing 1KX5...\n",
      "Loading: /pscratch/sd/c/cawrober/benchmark_test/1KX5/simulation/final_state.pdb\n"
     ]
    },
    {
     "name": "stderr",
     "output_type": "stream",
     "text": [
      "/global/u1/c/cawrober/micromamba_root/envs/openmm/lib/python3.12/site-packages/mdtraj/formats/pdb/pdbstructure.py:273: UserWarning: Need to guess residue number string    0 starting from residue34996, atom 526542.\n",
      "  warnings.warn(\n",
      "/global/u1/c/cawrober/micromamba_root/envs/openmm/lib/python3.12/site-packages/mdtraj/formats/pdb/pdbstructure.py:204: UserWarning: Need to guess atom number     0 starting from atom 869836.\n",
      "  warnings.warn(\n"
     ]
    },
    {
     "name": "stdout",
     "output_type": "stream",
     "text": [
      "1KX5: Visualizing DNA only\n"
     ]
    },
    {
     "data": {
      "application/vnd.jupyter.widget-view+json": {
       "model_id": "6717dd6d495647dc871f764f32403d95",
       "version_major": 2,
       "version_minor": 0
      },
      "text/plain": [
       "NGLWidget()"
      ]
     },
     "metadata": {},
     "output_type": "display_data"
    },
    {
     "name": "stdout",
     "output_type": "stream",
     "text": [
      "Visualizing 2BNA...\n",
      "Loading: /pscratch/sd/c/cawrober/benchmark_test/2BNA/simulation/final_state.pdb\n",
      "2BNA: Visualizing DNA only\n"
     ]
    },
    {
     "data": {
      "application/vnd.jupyter.widget-view+json": {
       "model_id": "41e7e09c85c54242aedc2e066685ac0d",
       "version_major": 2,
       "version_minor": 0
      },
      "text/plain": [
       "NGLWidget()"
      ]
     },
     "metadata": {},
     "output_type": "display_data"
    },
    {
     "name": "stdout",
     "output_type": "stream",
     "text": [
      "Visualizing 2DCG...\n",
      "Loading: /pscratch/sd/c/cawrober/benchmark_test/2DCG/simulation/final_state.pdb\n",
      "2DCG: Visualizing DNA only\n"
     ]
    },
    {
     "data": {
      "application/vnd.jupyter.widget-view+json": {
       "model_id": "c6914b0af4db4982ba5db65001f2edb5",
       "version_major": 2,
       "version_minor": 0
      },
      "text/plain": [
       "NGLWidget()"
      ]
     },
     "metadata": {},
     "output_type": "display_data"
    },
    {
     "name": "stdout",
     "output_type": "stream",
     "text": [
      "Visualizing 3BSE...\n",
      "Loading: /pscratch/sd/c/cawrober/benchmark_test/3BSE/simulation/final_state.pdb\n",
      "3BSE: Visualizing DNA only\n"
     ]
    },
    {
     "data": {
      "application/vnd.jupyter.widget-view+json": {
       "model_id": "2f0ff7c277954148a9418307810b0b66",
       "version_major": 2,
       "version_minor": 0
      },
      "text/plain": [
       "NGLWidget()"
      ]
     },
     "metadata": {},
     "output_type": "display_data"
    },
    {
     "name": "stdout",
     "output_type": "stream",
     "text": [
      "Visualizing 3PX7...\n",
      "Loading: /pscratch/sd/c/cawrober/benchmark_test/3PX7/simulation/final_state.pdb\n"
     ]
    },
    {
     "name": "stderr",
     "output_type": "stream",
     "text": [
      "/global/u1/c/cawrober/micromamba_root/envs/openmm/lib/python3.12/site-packages/mdtraj/formats/pdb/pdbstructure.py:273: UserWarning: Need to guess residue number string    0 starting from residue34996, atom 246849.\n",
      "  warnings.warn(\n"
     ]
    },
    {
     "name": "stdout",
     "output_type": "stream",
     "text": [
      "3PX7: Visualizing DNA only\n"
     ]
    },
    {
     "data": {
      "application/vnd.jupyter.widget-view+json": {
       "model_id": "787637f32e894c9d8daec88787e6a065",
       "version_major": 2,
       "version_minor": 0
      },
      "text/plain": [
       "NGLWidget()"
      ]
     },
     "metadata": {},
     "output_type": "display_data"
    },
    {
     "name": "stdout",
     "output_type": "stream",
     "text": [
      "Visualizing 432D...\n",
      "Loading: /pscratch/sd/c/cawrober/benchmark_test/432D/simulation/final_state.pdb\n",
      "432D: Visualizing DNA only\n"
     ]
    },
    {
     "data": {
      "application/vnd.jupyter.widget-view+json": {
       "model_id": "86a4e31c02d146e3b6a3f98fe47dbeff",
       "version_major": 2,
       "version_minor": 0
      },
      "text/plain": [
       "NGLWidget()"
      ]
     },
     "metadata": {},
     "output_type": "display_data"
    },
    {
     "name": "stdout",
     "output_type": "stream",
     "text": [
      "Visualizing 436D...\n",
      "Loading: /pscratch/sd/c/cawrober/benchmark_test/436D/simulation/final_state.pdb\n",
      "436D: Visualizing DNA only\n"
     ]
    },
    {
     "data": {
      "application/vnd.jupyter.widget-view+json": {
       "model_id": "ee78bc430fb744818cc72799296bfabf",
       "version_major": 2,
       "version_minor": 0
      },
      "text/plain": [
       "NGLWidget()"
      ]
     },
     "metadata": {},
     "output_type": "display_data"
    },
    {
     "name": "stdout",
     "output_type": "stream",
     "text": [
      "Visualizing 4OCB...\n",
      "Loading: /pscratch/sd/c/cawrober/benchmark_test/4OCB/simulation/final_state.pdb\n",
      "4OCB: Visualizing DNA only\n"
     ]
    },
    {
     "data": {
      "application/vnd.jupyter.widget-view+json": {
       "model_id": "dd4ab24921bc4c2482f6c0403b18b791",
       "version_major": 2,
       "version_minor": 0
      },
      "text/plain": [
       "NGLWidget()"
      ]
     },
     "metadata": {},
     "output_type": "display_data"
    },
    {
     "name": "stdout",
     "output_type": "stream",
     "text": [
      "Visualizing 6BST...\n",
      "Loading: /pscratch/sd/c/cawrober/benchmark_test/6BST/simulation/final_state.pdb\n",
      "6BST: Visualizing DNA only\n"
     ]
    },
    {
     "data": {
      "application/vnd.jupyter.widget-view+json": {
       "model_id": "006db0a22aaa4d2cbcaefa3f808abd96",
       "version_major": 2,
       "version_minor": 0
      },
      "text/plain": [
       "NGLWidget()"
      ]
     },
     "metadata": {},
     "output_type": "display_data"
    },
    {
     "name": "stdout",
     "output_type": "stream",
     "text": [
      "Visualizing 6N65...\n",
      "Loading: /pscratch/sd/c/cawrober/benchmark_test/6N65/simulation/final_state.pdb\n",
      "6N65: Visualizing DNA only\n"
     ]
    },
    {
     "data": {
      "application/vnd.jupyter.widget-view+json": {
       "model_id": "12ea5b85ec1e44ba8fc24395ce76c241",
       "version_major": 2,
       "version_minor": 0
      },
      "text/plain": [
       "NGLWidget()"
      ]
     },
     "metadata": {},
     "output_type": "display_data"
    }
   ],
   "source": [
    "import sys\n",
    "sys.path.append('/global/u1/c/cawrober/openmm_generate/scripts')\n",
    "import nglview\n",
    "from visualize import visualize_pdb\n",
    "\n",
    "# Example for multiple PDBs\n",
    "for pdbid in [\"1BNA\", \"1D92\", \"1FZX\", \"1IHF\", \"1KX5\", \"2BNA\", \"2DCG\", \"3BSE\", \"3PX7\",\n",
    "  \"432D\", \"436D\", \"4OCB\", \"6BST\", \"6N65\"]:\n",
    "    print(f\"Visualizing {pdbid}...\")\n",
    "    view = visualize_pdb(pdbid)\n",
    "    if view:\n",
    "        display(view)"
   ]
  },
  {
   "cell_type": "code",
   "execution_count": null,
   "id": "e63d56c2-37d4-4a51-8ef1-3716c7f8c7d8",
   "metadata": {},
   "outputs": [],
   "source": []
  }
 ],
 "metadata": {
  "kernelspec": {
   "display_name": "Python (openmm)",
   "language": "python",
   "name": "openmm"
  },
  "language_info": {
   "codemirror_mode": {
    "name": "ipython",
    "version": 3
   },
   "file_extension": ".py",
   "mimetype": "text/x-python",
   "name": "python",
   "nbconvert_exporter": "python",
   "pygments_lexer": "ipython3",
   "version": "3.12.11"
  }
 },
 "nbformat": 4,
 "nbformat_minor": 5
}

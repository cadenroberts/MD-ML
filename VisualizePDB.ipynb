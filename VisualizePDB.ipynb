{
 "cells": [
  {
   "cell_type": "code",
   "execution_count": 1,
   "id": "89ac8d00-cfa7-4f3f-8e60-3f6ef49544d5",
   "metadata": {},
   "outputs": [
    {
     "data": {
      "application/vnd.jupyter.widget-view+json": {
       "model_id": "2c29d14feeb4423480d1f00a6484f7bc",
       "version_major": 2,
       "version_minor": 0
      },
      "text/plain": []
     },
     "metadata": {},
     "output_type": "display_data"
    },
    {
     "name": "stderr",
     "output_type": "stream",
     "text": [
      "/global/u1/c/cawrober/micromamba_root/envs/openmm/lib/python3.12/site-packages/nglview/__init__.py:12: UserWarning: pkg_resources is deprecated as an API. See https://setuptools.pypa.io/en/latest/pkg_resources.html. The pkg_resources package is slated for removal as early as 2025-11-30. Refrain from using this package or pin to Setuptools<81.\n",
      "  import pkg_resources\n"
     ]
    },
    {
     "name": "stdout",
     "output_type": "stream",
     "text": [
      "Go\n"
     ]
    },
    {
     "data": {
      "application/vnd.jupyter.widget-view+json": {
       "model_id": "191903b0e6b54441b6e61360695ac7e1",
       "version_major": 2,
       "version_minor": 0
      },
      "text/plain": [
       "Dropdown(description='PDB ID:', options=('131D', '151D', '152D', '191D', '1BNA', '1C8C', '1D11', '1D35', '1D39…"
      ]
     },
     "metadata": {},
     "output_type": "display_data"
    },
    {
     "data": {
      "application/vnd.jupyter.widget-view+json": {
       "model_id": "c0e23b3db2ba4877872c777297c981c1",
       "version_major": 2,
       "version_minor": 0
      },
      "text/plain": [
       "Output()"
      ]
     },
     "metadata": {},
     "output_type": "display_data"
    }
   ],
   "source": [
    "import sys\n",
    "sys.path.append('/global/u1/c/cawrober/openmm_generate/scripts')\n",
    "import ipywidgets as widgets\n",
    "from IPython.display import display, clear_output\n",
    "from visualize import visualize_pdb\n",
    "print(\"Go\")\n",
    "# Example for multiple PDBs\n",
    "pdbids = [\"131D\", \"151D\", \"152D\", \"191D\", \"1BNA\", \"1C8C\", \"1D11\", \"1D35\", \"1D39\", \"1D48\", \"1D54\", \"1D76\", \"1D78\", \"1D79\", \"1D8G\", \"1D8X\", \"1D92\", \"1DC0\", \"1DCG\", \"1DJ6\", \"1DPL\", \"1DPN\", \"1EI4\", \"1EN3\", \"1EN8\", \"1EN9\", \"1ENE\", \"1ENN\", \"1FD5\", \"1FQ2\", \"1FZX\", \"1G4Q\", \"1I0G\", \"1I0J\", \"1I0K\", \"1I0M\", \"1I0N\", \"1I0P\", \"1I0Q\", \"1I0T\", \"1I5W\", \"1ICK\", \"1IH6\", \"1IHF\", \"1JGR\", \"1K9G\", \"1KGK\", \"1KX5\", \"1M69\", \"1M77\", \"1MA8\", \"1MF5\", \"1MLX\", \"1MNN\", \"1N1O\", \"1O0K\", \"1OMK\", \"1P20\", \"1PFE\", \"1PJG\", \"1PJO\", \"1PWF\", \"1QYK\", \"1QYL\", \"1R3G\", \"1R68\", \"1SK5\", \"1UE2\", \"1VRO\", \"1VTT\", \"1VTY\", \"1XCS\", \"1XUW\", \"1XUX\", \"1XVK\", \"1XVR\", \"1XYI\", \"1Z7I\", \"1ZF1\", \"1ZF5\", \"1ZF7\", \"1ZF8\", \"1ZF9\", \"1ZFF\", \"210D\", \"224D\", \"232D\", \"244D\", \"245D\", \"292D\", \"293D\", \"2B3E\", \"2BNA\", \"2D34\", \"2DCG\", \"2DYW\", \"2ELG\", \"2F8W\", \"2FIH\", \"2FII\", \"2FIJ\", \"2HAX\", \"2HC7\", \"2O1I\", \"2OBZ\", \"2ODI\", \"2PLO\", \"2VLA\", \"336D\", \"344D\", \"355D\", \"362D\", \"366D\", \"3BBB\", \"3BSE\", \"3DNB\", \"3EY2\", \"3EY3\", \"3FDE\", \"3FL6\", \"3FT6\", \"3GGI\", \"3GGK\", \"3GO3\", \"3HG8\", \"3I5E\", \"3I5L\", \"3IFI\", \"3IJK\", \"3IKI\", \"3LTR\", \"3LTU\", \"3NDH\", \"3NYP\", \"3NZ7\", \"3O1T\", \"3OMJ\", \"3OPI\", \"3OZ5\", \"3P4J\", \"3PX7\", \"3QRN\", \"3TVB\", \"3U05\", \"3U08\", \"3U0U\", \"3U2N\", \"3U89\", \"3UKB\", \"3V07\", \"3WBO\", \"3ZDB\", \"403D\", \"427D\", \"431D\", \"432D\", \"436D\", \"440D\", \"454D\", \"455D\", \"460D\", \"476D\", \"4AGZ\", \"4AH0\", \"4AH1\", \"4B21\", \"4C5X\", \"4C63\", \"4C64\", \"4E1U\", \"4E8S\", \"4F3U\", \"4F4N\", \"4FP6\", \"4FS5\", \"4FS6\", \"4GJU\", \"4GZN\", \"4H5A\", \"4HIF\", \"4HIG\", \"4HLY\", \"4I1G\", \"4I9V\", \"4III\", \"4JD8\", \"4KW0\", \"4KWX\", \"4L25\", \"4L26\", \"4LTG\", \"4LTI\", \"4LTK\", \"4M9V\", \"4MJ9\", \"4MKW\", \"4OCB\", \"4QKK\", \"4R15\", \"4R49\", \"4R4A\", \"4R4D\", \"4U8A\", \"4U8B\", \"4U8C\", \"4X18\", \"4X1A\", \"4X9J\", \"4XSN\", \"4XZF\", \"4Z47\", \"5AXE\", \"5AXF\", \"5CH0\", \"5CL7\", \"5CL8\", \"5DLO\", \"5DNB\", \"5DSB\", \"5EXH\", \"5GSK\", \"5IX7\", \"5JEU\", \"5JEV\", \"5JZQ\", \"5KFN\", \"5KFS\", \"5KFZ\", \"5KL3\", \"5LIT\", \"5MVL\", \"5WSQ\", \"5WSS\", \"5WV7\", \"5XJZ\", \"5XK0\", \"5ZAT\", \"6A85\", \"6AQT\", \"6AQV\", \"6AQW\", \"6BD0\", \"6BST\", \"6CQ3\", \"6DOY\", \"6DY5\", \"6GIM\", \"6GLD\", \"6IP3\", \"6JJE\", \"6JJF\", \"6JKN\", \"6JV5\", \"6KBX\", \"6M2P\", \"6MC2\", \"6ML4\", \"6N4G\", \"6N65\", \"6NIZ\", \"6S7D\", \"6UKF\", \"6UKG\", \"6X5D\", \"6X6Z\", \"6YKF\", \"7ATG\", \"7B4H\", \"7B4N\", \"7BSF\", \"7BSH\", \"7D31\", \"7D5D\", \"7D5E\", \"7KII\", \"7KLP\", \"7KW4\", \"7KWK\", \"7KZL\", \"7M7M\", \"7M7N\", \"7M7T\", \"7M84\", \"7MOO\", \"7P0W\", \"7P8L\", \"7P9Z\", \"7RQT\", \"7SB8\", \"7U7L\", \"7YZ7\", \"7YZA\", \"7YZB\", \"7ZQM\", \"8A71\", \"8ASO\", \"8BAE\", \"8CE2\", \"8CMM\", \"8CRY\", \"8E3K\", \"8E3R\", \"8E4H\", \"8E5Y\", \"8EBH\", \"8EE9\", \"8EJ6\", \"8EJ8\", \"8EK3\", \"8EKZ\", \"8ENG\", \"8EO1\", \"8EO4\", \"8EQG\", \"8EQK\", \"8F2W\", \"8F94\", \"8FB4\", \"8G2N\", \"8HU5\", \"8I50\", \"8K0W\", \"8OE3\", \"8OE7\", \"8OE8\", \"8OE9\", \"8OEX\", \"8PMF\", \"8PMN\", \"8PNA\", \"8RER\", \"8RI3\", \"8RI5\", \"8RMH\", \"8SKW\", \"8SMH\", \"8SMJ\", \"8TAA\", \"8V4T\", \"8V5J\", \"8VMP\", \"8VMX\", \"9KHW\", \"9OA4\"]\n",
    "\n",
    "dropdown = widgets.Dropdown(\n",
    "    options=pdbids,\n",
    "    description='PDB ID:',\n",
    "    disabled=False,\n",
    ")\n",
    "\n",
    "output = widgets.Output()\n",
    "\n",
    "def on_change(change):\n",
    "    if change['type'] == 'change' and change['name'] == 'value':\n",
    "        output.clear_output()\n",
    "        with output:\n",
    "            print(f\"Displaying {change['new']}...\")\n",
    "            view = visualize_pdb(change['new'])\n",
    "            if view:\n",
    "                display(view)\n",
    "\n",
    "dropdown.observe(on_change)\n",
    "\n",
    "display(dropdown, output)"
   ]
  },
  {
   "cell_type": "code",
   "execution_count": null,
   "id": "6d0583ba-6ee0-4362-8eaf-9f3b2df95a02",
   "metadata": {},
   "outputs": [],
   "source": []
  }
 ],
 "metadata": {
  "kernelspec": {
   "display_name": "Python (openmm)",
   "language": "python",
   "name": "openmm"
  },
  "language_info": {
   "codemirror_mode": {
    "name": "ipython",
    "version": 3
   },
   "file_extension": ".py",
   "mimetype": "text/x-python",
   "name": "python",
   "nbconvert_exporter": "python",
   "pygments_lexer": "ipython3",
   "version": "3.12.11"
  }
 },
 "nbformat": 4,
 "nbformat_minor": 5
}
